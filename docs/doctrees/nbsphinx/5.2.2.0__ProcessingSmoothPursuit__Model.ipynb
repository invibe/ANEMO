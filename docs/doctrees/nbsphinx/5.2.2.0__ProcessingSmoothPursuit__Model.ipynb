{
 "cells": [
  {
   "cell_type": "markdown",
   "metadata": {},
   "source": [
    "# Model.SmoothPursuit"
   ]
  },
  {
   "cell_type": "raw",
   "metadata": {
    "raw_mimetype": "text/html"
   },
   "source": [
    "<br>"
   ]
  },
  {
   "cell_type": "raw",
   "metadata": {
    "raw_mimetype": "text/restructuredtext"
   },
   "source": [
    ".. autoclass:: ANEMO.Model::Model.SmoothPursuit\n",
    "   :noindex:"
   ]
  },
  {
   "cell_type": "raw",
   "metadata": {
    "raw_mimetype": "text/html"
   },
   "source": [
    "<br>"
   ]
  },
  {
   "cell_type": "raw",
   "metadata": {
    "raw_mimetype": "text/restructuredtext"
   },
   "source": [
    "**Different models** are predefined:\n",
    "\n",
    "    - :doc:`5.2.2.1__ProcessingSmoothPursuit__Model_velocity_line` - Function reproducing the velocity of the eye during the smooth pursuit of a moving target\n",
    "    - :doc:`5.2.2.2__ProcessingSmoothPursuit__Model_velocity` - Function reproducing the velocity of the eye during the smooth pursuit of a moving target\n",
    "    - :doc:`5.2.2.3__ProcessingSmoothPursuit__Model_velocity_sigmo` - Function reproducing the velocity of the eye during the smooth pursuit of a moving target\n",
    "    - :doc:`5.2.2.4__ProcessingSmoothPursuit__Model_position` - Function reproducing the position of the eye during the smooth pursuit of a moving target"
   ]
  },
  {
   "cell_type": "raw",
   "metadata": {
    "raw_mimetype": "text/restructuredtext"
   },
   "source": [
    ".. toctree::\n",
    "   :hidden:\n",
    "   \n",
    "   5.2.2.1__ProcessingSmoothPursuit__Model_velocity_line\n",
    "   5.2.2.2__ProcessingSmoothPursuit__Model_velocity\n",
    "   5.2.2.3__ProcessingSmoothPursuit__Model_velocity_sigmo\n",
    "   5.2.2.4__ProcessingSmoothPursuit__Model_position"
   ]
  }
 ],
 "metadata": {
  "celltoolbar": "Raw Cell Format",
  "kernelspec": {
   "display_name": "Python 3 (ipykernel)",
   "language": "python",
   "name": "python3"
  },
  "language_info": {
   "codemirror_mode": {
    "name": "ipython",
    "version": 3
   },
   "file_extension": ".py",
   "mimetype": "text/x-python",
   "name": "python",
   "nbconvert_exporter": "python",
   "pygments_lexer": "ipython3",
   "version": "3.10.6"
  },
  "toc": {
   "base_numbering": 1,
   "nav_menu": {},
   "number_sections": true,
   "sideBar": true,
   "skip_h1_title": false,
   "title_cell": "Table of Contents",
   "title_sidebar": "Contents",
   "toc_cell": false,
   "toc_position": {},
   "toc_section_display": true,
   "toc_window_display": false
  }
 },
 "nbformat": 4,
 "nbformat_minor": 2
}
