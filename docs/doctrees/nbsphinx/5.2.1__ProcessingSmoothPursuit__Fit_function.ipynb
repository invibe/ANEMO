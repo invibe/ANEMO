{
 "cells": [
  {
   "cell_type": "markdown",
   "metadata": {},
   "source": [
    "# Smooth pursuit fitting function"
   ]
  },
  {
   "cell_type": "raw",
   "metadata": {
    "raw_mimetype": "text/html"
   },
   "source": [
    "<br>"
   ]
  },
  {
   "cell_type": "markdown",
   "metadata": {
    "raw_mimetype": "text/html"
   },
   "source": [
    "Allows you to **fit the parameters of a model** defined by an ``equation`` to the data"
   ]
  },
  {
   "cell_type": "markdown",
   "metadata": {
    "raw_mimetype": "text/html"
   },
   "source": [
    "## Test the parameters\n",
    "\n",
    "------------------------------"
   ]
  },
  {
   "cell_type": "raw",
   "metadata": {
    "raw_mimetype": "text/restructuredtext"
   },
   "source": [
    ".. autofunction:: ANEMO.ProcessingSmoothPursuit::ProcessingSmoothPursuit.Trial.Fit\n",
    "  :noindex:"
   ]
  },
  {
   "cell_type": "raw",
   "metadata": {
    "raw_mimetype": "text/html"
   },
   "source": [
    "<br>"
   ]
  },
  {
   "cell_type": "raw",
   "metadata": {
    "raw_mimetype": "text/restructuredtext"
   },
   "source": [
    "**example of code:**\n",
    "\n",
    "    - :ref:`velocity_line </5.2.2.1__ProcessingSmoothPursuit__Model_velocity_line.ipynb#Test-the-parameters>`\n",
    "    - :ref:`velocity </5.2.2.2__ProcessingSmoothPursuit__Model_velocity.ipynb#Test-the-parameters>`\n",
    "    - :ref:`velocity_sigmo </5.2.2.3__ProcessingSmoothPursuit__Model_velocity_sigmo.ipynb#Test-the-parameters>`\n",
    "    - :ref:`position </5.2.2.4__ProcessingSmoothPursuit__Model_position.ipynb#Test-the-parameters>`\n",
    "    - :ref:`example_of_a_user-defined_model </5.2.4__ProcessingSmoothPursuit__Fit_example_of_a_user-defined_model.ipynb#Test-the-parameters>`"
   ]
  },
  {
   "cell_type": "markdown",
   "metadata": {
    "raw_mimetype": "text/html"
   },
   "source": [
    "## Run it on a data set\n",
    "\n",
    "------------------------------"
   ]
  },
  {
   "cell_type": "raw",
   "metadata": {
    "raw_mimetype": "text/restructuredtext"
   },
   "source": [
    ".. autofunction:: ANEMO.ProcessingSmoothPursuit::ProcessingSmoothPursuit.Data.Fit\n",
    "  :noindex:"
   ]
  },
  {
   "cell_type": "raw",
   "metadata": {
    "raw_mimetype": "text/html"
   },
   "source": [
    "<br>"
   ]
  },
  {
   "cell_type": "raw",
   "metadata": {
    "raw_mimetype": "text/restructuredtext"
   },
   "source": [
    "**example of code:**\n",
    "\n",
    "    - :ref:`velocity_line </5.2.2.1__ProcessingSmoothPursuit__Model_velocity_line.ipynb#Run-it-on-a-data-set>`\n",
    "    - :ref:`velocity </5.2.2.2__ProcessingSmoothPursuit__Model_velocity.ipynb#Run-it-on-a-data-set>`\n",
    "    - :ref:`velocity_sigmo </5.2.2.3__ProcessingSmoothPursuit__Model_velocity_sigmo.ipynb#Run-it-on-a-data-set>`\n",
    "    - :ref:`position </5.2.2.4__ProcessingSmoothPursuit__Model_position.ipynb#Run-it-on-a-data-set>`\n",
    "    - :ref:`example_of_a_user-defined_model </5.2.4__ProcessingSmoothPursuit__Fit_example_of_a_user-defined_model.ipynb#Run-it-on-a-data-set>`"
   ]
  }
 ],
 "metadata": {
  "celltoolbar": "Raw Cell Format",
  "kernelspec": {
   "display_name": "Python 3 (ipykernel)",
   "language": "python",
   "name": "python3"
  },
  "language_info": {
   "codemirror_mode": {
    "name": "ipython",
    "version": 3
   },
   "file_extension": ".py",
   "mimetype": "text/x-python",
   "name": "python",
   "nbconvert_exporter": "python",
   "pygments_lexer": "ipython3",
   "version": "3.10.6"
  },
  "toc": {
   "base_numbering": 1,
   "nav_menu": {},
   "number_sections": true,
   "sideBar": true,
   "skip_h1_title": false,
   "title_cell": "Table of Contents",
   "title_sidebar": "Contents",
   "toc_cell": false,
   "toc_position": {},
   "toc_section_display": true,
   "toc_window_display": false
  }
 },
 "nbformat": 4,
 "nbformat_minor": 2
}
