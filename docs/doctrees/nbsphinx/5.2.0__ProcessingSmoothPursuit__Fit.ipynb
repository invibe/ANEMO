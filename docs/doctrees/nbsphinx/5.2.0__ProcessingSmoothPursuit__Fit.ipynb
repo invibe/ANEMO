{
 "cells": [
  {
   "cell_type": "markdown",
   "metadata": {},
   "source": [
    "# Fit"
   ]
  },
  {
   "cell_type": "raw",
   "metadata": {
    "raw_mimetype": "text/html"
   },
   "source": [
    "<br>"
   ]
  },
  {
   "cell_type": "raw",
   "metadata": {
    "raw_mimetype": "text/restructuredtext"
   },
   "source": [
    "| This :doc:`function <5.2.1__ProcessingSmoothPursuit__Fit_function>` fits the parameters of a model defined by a :doc:`equation <5.2.2.0__ProcessingSmoothPursuit__Model>` to the eye data.\n",
    "| To perform this fitting you will need a model and a function allowing the :doc:`generation of the model parameters <5.2.3__ProcessingSmoothPursuit__GenerateParams>`."
   ]
  },
  {
   "cell_type": "raw",
   "metadata": {
    "raw_mimetype": "text/html"
   },
   "source": [
    "<br>"
   ]
  },
  {
   "cell_type": "raw",
   "metadata": {
    "raw_mimetype": "text/restructuredtext"
   },
   "source": [
    "**Different models** are predefined in the :doc:`5.2.2.0__ProcessingSmoothPursuit__Model` class:\n",
    "\n",
    "    - :doc:`5.2.2.1__ProcessingSmoothPursuit__Model_velocity_line` - Function reproducing the velocity of the eye during the smooth pursuit of a moving target\n",
    "    - :doc:`5.2.2.2__ProcessingSmoothPursuit__Model_velocity` - Function reproducing the velocity of the eye during the smooth pursuit of a moving target\n",
    "    - :doc:`5.2.2.3__ProcessingSmoothPursuit__Model_velocity_sigmo` - Function reproducing the velocity of the eye during the smooth pursuit of a moving target\n",
    "    - :doc:`5.2.2.4__ProcessingSmoothPursuit__Model_position` - Function reproducing the position of the eye during the smooth pursuit of a moving target\n",
    "    \n",
    "and the function allowing the **generation of their parameters** is defined in the :doc:`5.2.3__ProcessingSmoothPursuit__GenerateParams` class"
   ]
  },
  {
   "cell_type": "raw",
   "metadata": {
    "raw_mimetype": "text/html"
   },
   "source": [
    "<br>"
   ]
  },
  {
   "cell_type": "raw",
   "metadata": {
    "raw_mimetype": "text/restructuredtext"
   },
   "source": [
    "| The fitting model can be defined by yourself, but you will also need to define the function to generate its parameters.\n",
    "| See :doc:`5.2.4__ProcessingSmoothPursuit__Fit_example_of_a_user-defined_model`"
   ]
  },
  {
   "cell_type": "raw",
   "metadata": {
    "raw_mimetype": "text/restructuredtext"
   },
   "source": [
    ".. toctree::\n",
    "   :hidden:\n",
    "\n",
    "   5.2.1__ProcessingSmoothPursuit__Fit_function\n",
    "   5.2.2.0__ProcessingSmoothPursuit__Model\n",
    "   5.2.3__ProcessingSmoothPursuit__GenerateParams\n",
    "   5.2.4__ProcessingSmoothPursuit__Fit_example_of_a_user-defined_model"
   ]
  }
 ],
 "metadata": {
  "celltoolbar": "Raw Cell Format",
  "kernelspec": {
   "display_name": "Python 3 (ipykernel)",
   "language": "python",
   "name": "python3"
  },
  "language_info": {
   "codemirror_mode": {
    "name": "ipython",
    "version": 3
   },
   "file_extension": ".py",
   "mimetype": "text/x-python",
   "name": "python",
   "nbconvert_exporter": "python",
   "pygments_lexer": "ipython3",
   "version": "3.10.6"
  },
  "toc": {
   "base_numbering": 1,
   "nav_menu": {},
   "number_sections": true,
   "sideBar": true,
   "skip_h1_title": false,
   "title_cell": "Table of Contents",
   "title_sidebar": "Contents",
   "toc_cell": false,
   "toc_position": {},
   "toc_section_display": true,
   "toc_window_display": false
  }
 },
 "nbformat": 4,
 "nbformat_minor": 2
}
