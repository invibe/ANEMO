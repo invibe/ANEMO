{
 "cells": [
  {
   "cell_type": "markdown",
   "metadata": {},
   "source": [
    "# to_deg"
   ]
  },
  {
   "cell_type": "raw",
   "metadata": {
    "raw_mimetype": "text/html"
   },
   "source": [
    "<br>"
   ]
  },
  {
   "cell_type": "markdown",
   "metadata": {},
   "source": [
    "Transforms **the position of the eye in pixels** into **degrees** "
   ]
  },
  {
   "cell_type": "markdown",
   "metadata": {
    "raw_mimetype": "text/html"
   },
   "source": [
    "## Test the parameters\n",
    "\n",
    "-----------------------------"
   ]
  },
  {
   "cell_type": "raw",
   "metadata": {
    "raw_mimetype": "text/restructuredtext"
   },
   "source": [
    ".. autofunction:: ANEMO.PreProcessing::PreProcessing.Trial.to_deg\n",
    "  :noindex:"
   ]
  },
  {
   "cell_type": "raw",
   "metadata": {
    "raw_mimetype": "text/html"
   },
   "source": [
    "<br><br>"
   ]
  },
  {
   "cell_type": "markdown",
   "metadata": {},
   "source": [
    "**example of code:** test the parameters of the function to ``the raw data position x of the eye in pixels``."
   ]
  },
  {
   "cell_type": "code",
   "execution_count": 1,
   "metadata": {
    "scrolled": true
   },
   "outputs": [
    {
     "data": {
      "image/png": "[encoded data removed]",
      "text/plain": [
       "<Figure size 720x214.158 with 2 Axes>"
      ]
     },
     "metadata": {
      "needs_background": "light"
     },
     "output_type": "display_data"
    }
   ],
   "source": [
    "import ANEMO\n",
    "\n",
    "PreProcessing = ANEMO.PreProcessing(dirpath='dataANEMO', sub='002')\n",
    "\n",
    "#------------------------------------------------------------------------------\n",
    "# Parameters:\n",
    "#------------------------------------------------------------------------------\n",
    "xname = 'xpr' # The raw position x of the eye in pixels\n",
    "trial = 8 # Number of the trial to be transformed\n",
    "expname = 'sub-002_task-aSPEM' # Name of the particular experience to be\n",
    "                               # transformed\n",
    "                               # or list(PreProcessing.data.keys())[0]\n",
    "events_start = None # Event marking the start of the trial\n",
    "before_sacc = 5 # Time to delete before saccades\n",
    "after_sacc = 15 # Time to delete after saccades\n",
    "toxname= None # Tame of the data to be saved\n",
    "return_ = True # If True returns the value, else saves it in data\n",
    "\n",
    "#------------------------------------------------------------------------------\n",
    "# to apply the function:\n",
    "#------------------------------------------------------------------------------\n",
    "xpr_deg = PreProcessing.Trial.to_deg(xname,\n",
    "                                     trial,\n",
    "                                     expname,\n",
    "                                     events_start,\n",
    "                                     before_sacc,\n",
    "                                     after_sacc,\n",
    "                                     toxname,\n",
    "                                     return_)\n",
    "\n",
    "#------------------------------------------------------------------------------\n",
    "# to retrieve the raw data:\n",
    "#------------------------------------------------------------------------------\n",
    "data_exp = PreProcessing.data[expname]\n",
    "data = data_exp.Data\n",
    "xpr = data[data.trial==trial][xname].values\n",
    "\n",
    "#------------------------------------------------------------------------------\n",
    "# Plot:\n",
    "#------------------------------------------------------------------------------\n",
    "import matplotlib.pyplot as plt\n",
    "\n",
    "\n",
    "fig, axs = plt.subplots(1, 2, figsize=(10, 10/(1.681*2)))\n",
    "\n",
    "axs[0].plot(xpr, 'k', alpha=.7)\n",
    "axs[0].set_title('the position of the eye in pixels: xpr')\n",
    "axs[0].set_xlabel('time (ms)')\n",
    "axs[0].set_ylabel('position of the eye (px)')\n",
    "\n",
    "axs[1].plot(xpr_deg, 'k', alpha=.7)\n",
    "axs[1].set_title('the position of the eye in degrees: xpr_deg')\n",
    "axs[1].set_xlabel('time (ms)')\n",
    "axs[1].set_ylabel('position of the eye (°)')\n",
    "\n",
    "plt.tight_layout()\n",
    "plt.show()"
   ]
  },
  {
   "cell_type": "markdown",
   "metadata": {
    "raw_mimetype": "text/html"
   },
   "source": [
    "## Run it on a data set\n",
    "\n",
    "----------------------------"
   ]
  },
  {
   "cell_type": "raw",
   "metadata": {
    "raw_mimetype": "text/restructuredtext"
   },
   "source": [
    ".. autofunction:: ANEMO.PreProcessing::PreProcessing.Data.to_deg\n",
    "  :noindex:"
   ]
  },
  {
   "cell_type": "raw",
   "metadata": {
    "raw_mimetype": "text/html"
   },
   "source": [
    "<br><br>"
   ]
  },
  {
   "cell_type": "markdown",
   "metadata": {},
   "source": [
    "**example of code:** run this function on ``the full raw data of the x position of the eye in pixels``."
   ]
  },
  {
   "cell_type": "code",
   "execution_count": 2,
   "metadata": {},
   "outputs": [
    {
     "name": "stdout",
     "output_type": "stream",
     "text": [
      "calculates xpr_deg from the file sub-002_task-aSPEM... finished\n"
     ]
    }
   ],
   "source": [
    "import ANEMO\n",
    "\n",
    "PreProcessing = ANEMO.PreProcessing(dirpath='dataANEMO', sub='002')\n",
    "\n",
    "#------------------------------------------------------------------------------\n",
    "# Parameters:\n",
    "#------------------------------------------------------------------------------\n",
    "xname = 'xpr' # The raw position x of the eye in pixels\n",
    "events_start = None # Event marking the start of the trial\n",
    "before_sacc = 5 # Time to delete before saccades\n",
    "after_sacc = 15 # Time to delete after saccades\n",
    "toxname= None # Name of the data to be saved,\n",
    "              # if None toxname will take the value xname+'_deg'\n",
    "expnames = 'sub-002_task-aSPEM' # Name of the particular experience to be\n",
    "                                # transformed\n",
    "                                # or list(PreProcessing.data.keys())[0] \n",
    "trials = list(range(1, 16)) # List of the trial to be transformed\n",
    "recalculate = False # Allows you to indicate if you want to force the\n",
    "                    # calculation on the trials already processed\n",
    "\n",
    "#------------------------------------------------------------------------------\n",
    "# to apply the function:\n",
    "#------------------------------------------------------------------------------\n",
    "PreProcessing.Data.to_deg(xname,\n",
    "                          events_start,\n",
    "                          before_sacc,\n",
    "                          after_sacc,\n",
    "                          toxname,\n",
    "                          expnames,\n",
    "                          trials,\n",
    "                          recalculate)"
   ]
  }
 ],
 "metadata": {
  "celltoolbar": "Raw Cell Format",
  "kernelspec": {
   "display_name": "Python 3",
   "language": "python",
   "name": "python3"
  },
  "language_info": {
   "codemirror_mode": {
    "name": "ipython",
    "version": 3
   },
   "file_extension": ".py",
   "mimetype": "text/x-python",
   "name": "python",
   "nbconvert_exporter": "python",
   "pygments_lexer": "ipython3",
   "version": "3.10.6"
  },
  "toc": {
   "base_numbering": 1,
   "nav_menu": {},
   "number_sections": true,
   "sideBar": true,
   "skip_h1_title": false,
   "title_cell": "Table of Contents",
   "title_sidebar": "Contents",
   "toc_cell": false,
   "toc_position": {},
   "toc_section_display": true,
   "toc_window_display": false
  }
 },
 "nbformat": 4,
 "nbformat_minor": 2
}
