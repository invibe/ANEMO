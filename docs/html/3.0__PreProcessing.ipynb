{
 "cells": [
  {
   "cell_type": "markdown",
   "metadata": {},
   "source": [
    "# PreProcessing"
   ]
  },
  {
   "cell_type": "raw",
   "metadata": {
    "raw_mimetype": "text/html"
   },
   "source": [
    "<br>"
   ]
  },
  {
   "cell_type": "raw",
   "metadata": {
    "raw_mimetype": "text/restructuredtext"
   },
   "source": [
    ".. autoclass:: ANEMO.PreProcessing\n",
    "   :noindex:"
   ]
  },
  {
   "cell_type": "raw",
   "metadata": {
    "raw_mimetype": "text/html"
   },
   "source": [
    "<br><br><br><br>\n",
    "<font size=\"+1\"><b>Test the parameters</b></font>"
   ]
  },
  {
   "cell_type": "markdown",
   "metadata": {},
   "source": [
    "------------------------------"
   ]
  },
  {
   "cell_type": "raw",
   "metadata": {
    "raw_mimetype": "text/restructuredtext"
   },
   "source": [
    "To test the parameters of the different PreProcessing functions, we invite you to use this class:\n",
    "\n",
    ".. autoclass:: ANEMO.PreProcessing::PreProcessing.Trial\n",
    "  :noindex:"
   ]
  },
  {
   "cell_type": "raw",
   "metadata": {
    "raw_mimetype": "text/html"
   },
   "source": [
    "<br>"
   ]
  },
  {
   "cell_type": "markdown",
   "metadata": {},
   "source": [
    "**example of code:** "
   ]
  },
  {
   "cell_type": "code",
   "execution_count": 1,
   "metadata": {},
   "outputs": [],
   "source": [
    "import ANEMO\n",
    "\n",
    "#------------------------------------------------------------------------------\n",
    "# Parameters:\n",
    "#------------------------------------------------------------------------------\n",
    "dirpath = 'dataANEMO' # Data directory path\n",
    "sub = '002' # Participant identifier\n",
    "task = None # Name of the Task\n",
    "ses = None # Name of the Session\n",
    "acq = None # Name of the Aquisition\n",
    "run = None # IndexRun\n",
    "RawData = False # If True open RawData, if False open DataAnemo\n",
    "#------------------------------------------------------------------------------\n",
    "\n",
    "PreProcessing = ANEMO.PreProcessing(dirpath, sub, task, ses, acq, run, RawData)\n",
    "PreProcessing_Trial = PreProcessing.Trial"
   ]
  },
  {
   "cell_type": "raw",
   "metadata": {
    "raw_mimetype": "text/html"
   },
   "source": [
    "<br><br>\n",
    "<font size=\"+1\"><b>Run it on a data set</b></font>"
   ]
  },
  {
   "cell_type": "markdown",
   "metadata": {},
   "source": [
    "------------------------------"
   ]
  },
  {
   "cell_type": "raw",
   "metadata": {
    "raw_mimetype": "text/restructuredtext"
   },
   "source": [
    "To apply the PreProcessing functions to a dataset, we invite you to use this class:\n",
    "\n",
    ".. autoclass:: ANEMO.PreProcessing::PreProcessing.Data\n",
    "  :noindex:"
   ]
  },
  {
   "cell_type": "raw",
   "metadata": {
    "raw_mimetype": "text/html"
   },
   "source": [
    "<br>"
   ]
  },
  {
   "cell_type": "markdown",
   "metadata": {},
   "source": [
    "**example of code:** "
   ]
  },
  {
   "cell_type": "code",
   "execution_count": 2,
   "metadata": {},
   "outputs": [],
   "source": [
    "import ANEMO\n",
    "\n",
    "#------------------------------------------------------------------------------\n",
    "# Parameters:\n",
    "#------------------------------------------------------------------------------\n",
    "dirpath = 'dataANEMO' # Data directory path\n",
    "sub = '002' # Participant identifier\n",
    "task = None # Name of the Task\n",
    "ses = None # Name of the Session\n",
    "acq = None # Name of the Aquisition\n",
    "run = None # IndexRun\n",
    "RawData = False # If True open RawData, if False open DataAnemo\n",
    "#------------------------------------------------------------------------------\n",
    "\n",
    "PreProcessing = ANEMO.PreProcessing(dirpath, sub, task, ses, acq, run, RawData)\n",
    "PreProcessing_Data = PreProcessing.Data"
   ]
  },
  {
   "cell_type": "raw",
   "metadata": {
    "raw_mimetype": "text/html"
   },
   "source": [
    "<br><br>\n",
    "<font size=\"+1\"><b>Functions</b></font>"
   ]
  },
  {
   "cell_type": "markdown",
   "metadata": {},
   "source": [
    "------------------------------"
   ]
  },
  {
   "cell_type": "raw",
   "metadata": {
    "raw_mimetype": "text/restructuredtext"
   },
   "source": [
    "This class includes different functions:\n",
    "\n",
    "    - :doc:`3.1__PreProcessing_to_deg` - transforms position data into degrees\n",
    "    - :doc:`3.2__PreProcessing_to_velocity_deg` - transforms position data into degrees per second\n",
    "    - :doc:`3.3__PreProcessing_filter` - allows to filter the data\n",
    "    - :doc:`3.4__PreProcessing_remove_events` - allows you to remove events from the data\n",
    "    - :doc:`3.5__PreProcessing_extract_events` - allows to extract events from data"
   ]
  },
  {
   "cell_type": "raw",
   "metadata": {
    "raw_mimetype": "text/restructuredtext"
   },
   "source": [
    ".. toctree::\n",
    "   :hidden:\n",
    "   \n",
    "   3.1__PreProcessing_to_deg\n",
    "   3.2__PreProcessing_to_velocity_deg\n",
    "   3.3__PreProcessing_filter\n",
    "   3.4__PreProcessing_remove_events\n",
    "   3.5__PreProcessing_extract_events"
   ]
  }
 ],
 "metadata": {
  "celltoolbar": "Raw Cell Format",
  "kernelspec": {
   "display_name": "Python 3 (ipykernel)",
   "language": "python",
   "name": "python3"
  },
  "language_info": {
   "codemirror_mode": {
    "name": "ipython",
    "version": 3
   },
   "file_extension": ".py",
   "mimetype": "text/x-python",
   "name": "python",
   "nbconvert_exporter": "python",
   "pygments_lexer": "ipython3",
   "version": "3.10.6"
  },
  "toc": {
   "base_numbering": 1,
   "nav_menu": {},
   "number_sections": true,
   "sideBar": true,
   "skip_h1_title": false,
   "title_cell": "Table of Contents",
   "title_sidebar": "Contents",
   "toc_cell": false,
   "toc_position": {},
   "toc_section_display": true,
   "toc_window_display": false
  }
 },
 "nbformat": 4,
 "nbformat_minor": 2
}
