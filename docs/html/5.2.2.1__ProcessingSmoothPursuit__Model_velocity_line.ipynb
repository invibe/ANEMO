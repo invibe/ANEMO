{
 "cells": [
  {
   "cell_type": "markdown",
   "metadata": {},
   "source": [
    "# Velocity line"
   ]
  },
  {
   "cell_type": "raw",
   "metadata": {
    "raw_mimetype": "text/html"
   },
   "source": [
    "<br>"
   ]
  },
  {
   "cell_type": "raw",
   "metadata": {
    "raw_mimetype": "text/restructuredtext"
   },
   "source": [
    ".. autofunction:: ANEMO.Model::Model.SmoothPursuit.velocity_line\n",
    "  :noindex:"
   ]
  },
  {
   "cell_type": "raw",
   "metadata": {
    "raw_mimetype": "text/html"
   },
   "source": [
    "<br><br>"
   ]
  },
  {
   "cell_type": "raw",
   "metadata": {
    "raw_mimetype": "text/restructuredtext",
    "scrolled": true
   },
   "source": [
    ".. image:: _static/model_velocity_line.svg"
   ]
  },
  {
   "cell_type": "raw",
   "metadata": {
    "raw_mimetype": "text/html"
   },
   "source": [
    "<br><br>"
   ]
  },
  {
   "cell_type": "markdown",
   "metadata": {
    "raw_mimetype": "text/html"
   },
   "source": [
    "In order to see the modifications of the model caused by the changes in the different parameters, feel free to play with the sliders:"
   ]
  },
  {
   "cell_type": "raw",
   "metadata": {
    "raw_mimetype": "text/html"
   },
   "source": [
    "<div style=\"margin-top:10px;\">\n",
    "  <iframe width=\"100%\" height=\"500\" src=\"_static/model_velocity_line.html\" frameborder=\"0\" allowfullscreen></iframe>\n",
    "</div>"
   ]
  },
  {
   "cell_type": "markdown",
   "metadata": {},
   "source": [
    "## Test the parameters\n",
    "\n",
    "-----------------------------"
   ]
  },
  {
   "cell_type": "raw",
   "metadata": {
    "raw_mimetype": "text/restructuredtext"
   },
   "source": [
    "| see :ref:`Test the parameters </5.2.1__ProcessingSmoothPursuit__Fit_function.ipynb#Test-the-parameters>` of the function fit\n",
    "| and see :doc:`5.2.3__ProcessingSmoothPursuit__GenerateParams` for generate automatically the parameters of this model in order to fit them to the data."
   ]
  },
  {
   "cell_type": "raw",
   "metadata": {
    "raw_mimetype": "text/html"
   },
   "source": [
    "<br>"
   ]
  },
  {
   "cell_type": "raw",
   "metadata": {
    "raw_mimetype": "text/restructuredtext"
   },
   "source": [
    "**example of code:** test the parameters of the function to ``the velocity of the eye de-saccade in deg/sec`` (see :ref:`/4.2__ProcessingSaccades_remove_saccades.ipynb#remove-saccades-from-the-velocity-data-in-deg/sec`)."
   ]
  },
  {
   "cell_type": "code",
   "execution_count": 1,
   "metadata": {},
   "outputs": [
    {
     "name": "stdout",
     "output_type": "stream",
     "text": [
      "{'values_fit': {'dir_target': 1.0, 'start_anti': 745.1326395808752, 'a_anti': -1.6443934228504986e-05, 'latency': 1036.7794589880457, 'steady_state': 14.817638411986232, 'do_whitening': False, 'ramp_pursuit': 79.9999999124489}, 'FitStatistics': {'nfev': 325, 'chisqr': 31553.718548893507, 'redchi': 22.28369954017903, 'aic': 4415.569775517182, 'bic': 4441.8653561576675}, 'fit': array([ 0.,  0.,  0., ..., nan, nan, nan])}\n"
     ]
    },
    {
     "data": {
      "image/png": "[encoded data removed]",
      "text/plain": [
       "<Figure size 360x214.158 with 1 Axes>"
      ]
     },
     "metadata": {
      "needs_background": "light"
     },
     "output_type": "display_data"
    }
   ],
   "source": [
    "import ANEMO\n",
    "\n",
    "Processing = ANEMO.ProcessingSmoothPursuit(dirpath='dataANEMO', sub='002')\n",
    "\n",
    "#------------------------------------------------------------------------------\n",
    "# Parameters:\n",
    "#------------------------------------------------------------------------------\n",
    "xname = 'vx_NaN' # The velocity of the eye de-saccade in deg/sec\n",
    "trial = 8 # Number of the trial to be transformed\n",
    "expname = 'sub-002_task-aSPEM' # Name of the particular experience to be\n",
    "                               # transformed\n",
    "                               # or list(PreProcessing.data.keys())[0]\n",
    "model = ANEMO.Model.SmoothPursuit.velocity_line # Model equation\n",
    "# Function generating parameters to perform the fitting\n",
    "generate_params = ANEMO.GenerateParams.SmoothPursuit\n",
    "stime = None # Start time of the fitting\n",
    "etime = -280 # End time of the fitting\n",
    "step_fit = 2 # Number of steps for the fit\n",
    "# Dictionary containing the parameters for the generate_params function\n",
    "arg_generate_params = dict(eventName_TargetOn='TargetOn',\n",
    "                           eventName_StimulusOff='StimulusOff',\n",
    "                           eventName_dir_target='dir_target',\n",
    "                           do_whitening=False) \n",
    "toxname = None # Name of the data to be saved\n",
    "return_ = True # If True returns the value, else saves it in results and data\n",
    "\n",
    "#------------------------------------------------------------------------------\n",
    "# to apply the function:\n",
    "#------------------------------------------------------------------------------\n",
    "Fit = Processing.Trial.Fit(xname,\n",
    "                           trial,\n",
    "                           expname,\n",
    "                           model,\n",
    "                           generate_params,\n",
    "                           stime,\n",
    "                           etime,\n",
    "                           step_fit,\n",
    "                           arg_generate_params,\n",
    "                           toxname,\n",
    "                           return_)\n",
    "print(Fit)\n",
    "\n",
    "#------------------------------------------------------------------------------\n",
    "# to retrieve the raw data:\n",
    "#------------------------------------------------------------------------------\n",
    "data_exp = Processing.data[expname]\n",
    "data = data_exp.Data\n",
    "vx_NaN = data[data.trial==trial][xname].values\n",
    "\n",
    "#------------------------------------------------------------------------------\n",
    "# Plot:\n",
    "#------------------------------------------------------------------------------\n",
    "import matplotlib.pyplot as plt\n",
    "\n",
    "fig, axs = plt.subplots(1,1, figsize=(10/2, 10/(1.681*2)))\n",
    "\n",
    "axs.plot(vx_NaN, 'k', alpha=.5, label='vx_NaN')\n",
    "axs.plot(Fit['fit'], 'r', label='fit')\n",
    "axs.set_xlabel('time (ms)')\n",
    "axs.set_ylabel('velocity of the eye (°/s)')\n",
    "axs.legend()\n",
    "\n",
    "plt.tight_layout()\n",
    "plt.show()"
   ]
  },
  {
   "cell_type": "markdown",
   "metadata": {},
   "source": [
    "## Run it on a data set\n",
    "\n",
    "----------------------------"
   ]
  },
  {
   "cell_type": "raw",
   "metadata": {
    "raw_mimetype": "text/restructuredtext"
   },
   "source": [
    "| see :ref:`Run it on a data set </5.2.1__ProcessingSmoothPursuit__Fit_function.ipynb#Run-it-on-a-data-set>` of the function fit\n",
    "| and see :doc:`5.2.3__ProcessingSmoothPursuit__GenerateParams` for generate automatically the parameters of this model in order to fit them to the data."
   ]
  },
  {
   "cell_type": "raw",
   "metadata": {
    "raw_mimetype": "text/html"
   },
   "source": [
    "<br>"
   ]
  },
  {
   "cell_type": "raw",
   "metadata": {
    "raw_mimetype": "text/restructuredtext"
   },
   "source": [
    "**example of code:** run this function on ``the full data of velocity of the eye de-saccade in deg/sec`` (see :ref:`/4.2__ProcessingSaccades_remove_saccades.ipynb#remove-saccades-from-the-velocity-data-in-deg/sec`)."
   ]
  },
  {
   "cell_type": "code",
   "execution_count": 2,
   "metadata": {},
   "outputs": [
    {
     "name": "stdout",
     "output_type": "stream",
     "text": [
      "calculates Fit_velocity_line from the file sub-002_task-aSPEM... finished\n"
     ]
    }
   ],
   "source": [
    "import ANEMO\n",
    "\n",
    "Processing = ANEMO.ProcessingSmoothPursuit(dirpath='dataANEMO', sub='002')\n",
    "\n",
    "#------------------------------------------------------------------------------\n",
    "# Parameters:\n",
    "#------------------------------------------------------------------------------\n",
    "xname = 'vx_NaN' # The velocity of the eye de-saccade in deg/sec\n",
    "model = ANEMO.Model.SmoothPursuit.velocity_line # Model equation\n",
    "# Function generating parameters to perform the fitting\n",
    "generate_params = ANEMO.GenerateParams.SmoothPursuit\n",
    "stime = None # Start time of the fitting\n",
    "etime = -280 # End time of the fitting\n",
    "step_fit = 2 # Number of steps for the fit\n",
    "# Dictionary containing the parameters for the generate_params function\n",
    "arg_generate_params = dict(eventName_TargetOn='TargetOn',\n",
    "                           eventName_StimulusOff='StimulusOff',\n",
    "                           eventName_dir_target='dir_target',\n",
    "                           do_whitening=False) \n",
    "toxname = None # Name of the data to be saved\n",
    "expnames = 'sub-002_task-aSPEM' # Name of the particular experience to be\n",
    "                                # transformed\n",
    "                                # or list(PreProcessing.data.keys())[0] \n",
    "trials = trials = list(range(1, 16)) # List of the trial to be transformed\n",
    "recalculate = False # Allows you to indicate if you want to force the\n",
    "                    # calculation on the trials already processed\n",
    "    \n",
    "#------------------------------------------------------------------------------\n",
    "# to apply the function:\n",
    "#------------------------------------------------------------------------------\n",
    "Processing.Data.Fit(xname,\n",
    "                    model,\n",
    "                    generate_params,\n",
    "                    stime,\n",
    "                    etime,\n",
    "                    step_fit,\n",
    "                    arg_generate_params,\n",
    "                    toxname,\n",
    "                    expnames,\n",
    "                    trials,\n",
    "                    recalculate)"
   ]
  }
 ],
 "metadata": {
  "celltoolbar": "Raw Cell Format",
  "kernelspec": {
   "display_name": "Python 3",
   "language": "python",
   "name": "python3"
  },
  "language_info": {
   "codemirror_mode": {
    "name": "ipython",
    "version": 3
   },
   "file_extension": ".py",
   "mimetype": "text/x-python",
   "name": "python",
   "nbconvert_exporter": "python",
   "pygments_lexer": "ipython3",
   "version": "3.10.6"
  },
  "toc": {
   "base_numbering": 1,
   "nav_menu": {},
   "number_sections": true,
   "sideBar": true,
   "skip_h1_title": false,
   "title_cell": "Table of Contents",
   "title_sidebar": "Contents",
   "toc_cell": false,
   "toc_position": {},
   "toc_section_display": true,
   "toc_window_display": false
  }
 },
 "nbformat": 4,
 "nbformat_minor": 2
}
