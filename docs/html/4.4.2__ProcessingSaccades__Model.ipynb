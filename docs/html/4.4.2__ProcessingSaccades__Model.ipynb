{
 "cells": [
  {
   "cell_type": "markdown",
   "metadata": {},
   "source": [
    "# Model.saccade"
   ]
  },
  {
   "cell_type": "raw",
   "metadata": {
    "raw_mimetype": "text/html"
   },
   "source": [
    "<br>"
   ]
  },
  {
   "cell_type": "raw",
   "metadata": {
    "raw_mimetype": "text/restructuredtext"
   },
   "source": [
    ".. autofunction:: ANEMO.Model::Model.saccade\n",
    "  :noindex:"
   ]
  },
  {
   "cell_type": "raw",
   "metadata": {
    "raw_mimetype": "text/html"
   },
   "source": [
    "<br><br>"
   ]
  },
  {
   "cell_type": "raw",
   "metadata": {
    "raw_mimetype": "text/restructuredtext"
   },
   "source": [
    ".. image:: _static/model_saccade.svg"
   ]
  },
  {
   "cell_type": "raw",
   "metadata": {
    "raw_mimetype": "text/html"
   },
   "source": [
    "<br><br>"
   ]
  },
  {
   "cell_type": "markdown",
   "metadata": {},
   "source": [
    "In order to see the modifications of the model caused by the changes in the different parameters, feel free to play with the sliders:"
   ]
  },
  {
   "cell_type": "raw",
   "metadata": {
    "raw_mimetype": "text/html"
   },
   "source": [
    "<div style=\"margin-top:10px;\">\n",
    "  <iframe width=\"100%\" height=\"500\" src=\"_static/model_saccade.html\" frameborder=\"0\" allowfullscreen></iframe>\n",
    "</div>"
   ]
  },
  {
   "cell_type": "markdown",
   "metadata": {
    "raw_mimetype": "text/restructuredtext"
   },
   "source": [
    "## Test the parameters\n",
    "\n",
    "-----------------------------"
   ]
  },
  {
   "cell_type": "raw",
   "metadata": {
    "raw_mimetype": "text/restructuredtext"
   },
   "source": [
    "| see :ref:`Test the parameters </4.4.1__ProcessingSaccades__Fit_function.ipynb#Test-the-parameters>` of the function fit\n",
    "| and see :doc:`4.4.3__ProcessingSaccades__GenerateParams` for generate automatically the parameters of this model in order to fit them to the data."
   ]
  },
  {
   "cell_type": "raw",
   "metadata": {
    "raw_mimetype": "text/html"
   },
   "source": [
    "<br>"
   ]
  },
  {
   "cell_type": "raw",
   "metadata": {
    "raw_mimetype": "text/restructuredtext"
   },
   "source": [
    "**example of code:** test the parameters of the function to ``the position of the saccades in degrees`` (see :doc:`4.3__ProcessingSaccades_extract_saccades`)."
   ]
  },
  {
   "cell_type": "code",
   "execution_count": 1,
   "metadata": {
    "scrolled": true
   },
   "outputs": [
    {
     "name": "stdout",
     "output_type": "stream",
     "text": [
      "{'fit': array([nan, nan, nan, ..., nan, nan, nan]), 'values_fit': [{'x_0': -0.035599050938075694, 'tau': 13.367680657604403, 'T0': 2.9999999361929355, 't1': 14.323387690198956, 't2': 13.31080273937112, 'tr': 0.6755835939382537, 'x1': 0.876166788873622, 'x2': 0.41295900852088785, 'do_whitening': False}, {'x_0': 0.4574889007273666, 'tau': 5.000271269555983, 'T0': 2.075676839911452, 't1': 13.278571434398003, 't2': 12.73731662605008, 'tr': 0.5836627339386569, 'x1': -0.68768743670788, 'x2': -0.21641552579347056, 'do_whitening': False}, {'x_0': 0.41090166248229354, 'tau': 37.32397131782378, 'T0': -1.8668711046427813, 't1': 10.644334551715032, 't2': 16.207820649396986, 'tr': 5.488230215141935, 'x1': 0.04261146808260463, 'x2': 2.775739625562945, 'do_whitening': False}], 'FitStatistics': [{'nfev': 750, 'chisqr': 0.0071067504479173085, 'redchi': 0.00022925001444894545, 'aic': -319.80060119236197, 'bic': -306.4921080233248}, {'nfev': 1089, 'chisqr': 0.0070942159167969665, 'redchi': 0.00023647386389323222, 'aic': -310.27034255874577, 'bic': -297.16965328093465}, {'nfev': 875, 'chisqr': 0.4699310933957591, 'redchi': 0.013053641483215531, 'aic': -183.731788904596, 'bic': -169.4582718332499}]}\n"
     ]
    },
    {
     "data": {
      "image/png": "[encoded data removed]",
      "text/plain": [
       "<Figure size 360x214.158 with 1 Axes>"
      ]
     },
     "metadata": {
      "needs_background": "light"
     },
     "output_type": "display_data"
    }
   ],
   "source": [
    "import ANEMO\n",
    "\n",
    "Processing = ANEMO.ProcessingSaccades(dirpath='dataANEMO', sub='002')\n",
    "\n",
    "#------------------------------------------------------------------------------\n",
    "# Parameters:\n",
    "#------------------------------------------------------------------------------\n",
    "xname = 'saccade_deg' # The position of the saccades in degrees\n",
    "trial = 8 # Number of the trial to be transformed\n",
    "expname = 'sub-002_task-aSPEM' # Name of the particular experience to be\n",
    "                               # transformed\n",
    "                               # or list(PreProcessing.data.keys())[0]\n",
    "model = ANEMO.Model.saccade # Model equation\n",
    "# Function generating parameters to perform the fitting\n",
    "generate_params = ANEMO.GenerateParams.saccade \n",
    "stime = None # Start time of the fitting\n",
    "etime = -280 # End time of the fitting\n",
    "step_fit = 2 # Number of steps for the fit\n",
    "# Dictionary containing the parameters for the generate_params function\n",
    "arg_generate_params = dict(do_whitening=False) \n",
    "toxname = None # Name of the data to be saved\n",
    "return_ = True # If True returns the value, else saves it in results and data\n",
    "\n",
    "#------------------------------------------------------------------------------\n",
    "# to apply the function:\n",
    "#------------------------------------------------------------------------------\n",
    "Fit = Processing.Trial.Fit(xname,\n",
    "                           trial,\n",
    "                           expname,\n",
    "                           model,\n",
    "                           generate_params,\n",
    "                           stime,\n",
    "                           etime,\n",
    "                           step_fit,\n",
    "                           arg_generate_params,\n",
    "                           toxname,\n",
    "                           return_)\n",
    "print(Fit)\n",
    "\n",
    "#------------------------------------------------------------------------------\n",
    "# to retrieve the raw data:\n",
    "#------------------------------------------------------------------------------\n",
    "data_exp = Processing.data[expname]\n",
    "data = data_exp.Data\n",
    "saccade_deg = data[data.trial==trial][xname].values\n",
    "\n",
    "#------------------------------------------------------------------------------\n",
    "# Plot:\n",
    "#------------------------------------------------------------------------------\n",
    "import matplotlib.pyplot as plt\n",
    "\n",
    "fig, axs = plt.subplots(1,1, figsize=(10/2, 10/(1.681*2)))\n",
    "\n",
    "axs.plot(saccade_deg, 'k', alpha=.5, label='vx_NaN')\n",
    "axs.plot(Fit['fit'], 'r', label='fit')\n",
    "axs.set_xlabel('time (ms)')\n",
    "axs.set_ylabel('position of the eye (°)')\n",
    "axs.legend()\n",
    "\n",
    "plt.tight_layout()\n",
    "plt.show()"
   ]
  },
  {
   "cell_type": "markdown",
   "metadata": {},
   "source": [
    "## Run it on a data set\n",
    "\n",
    "----------------------------"
   ]
  },
  {
   "cell_type": "raw",
   "metadata": {
    "raw_mimetype": "text/restructuredtext"
   },
   "source": [
    "| see :ref:`Run it on a data set </4.4.1__ProcessingSaccades__Fit_function.ipynb#Run-it-on-a-data-set>` of the function fit\n",
    "| and see :doc:`4.4.3__ProcessingSaccades__GenerateParams` for generate automatically the parameters of this model in order to fit them to the data."
   ]
  },
  {
   "cell_type": "raw",
   "metadata": {
    "raw_mimetype": "text/html"
   },
   "source": [
    "<br>"
   ]
  },
  {
   "cell_type": "raw",
   "metadata": {
    "raw_mimetype": "text/restructuredtext"
   },
   "source": [
    "**example of code:** run this function on ``the full data of position of the saccades in degrees`` (see :doc:`4.3__ProcessingSaccades_extract_saccades`)."
   ]
  },
  {
   "cell_type": "code",
   "execution_count": 2,
   "metadata": {},
   "outputs": [
    {
     "name": "stdout",
     "output_type": "stream",
     "text": [
      "calculates Fit_saccade from the file sub-002_task-aSPEM... finished\n"
     ]
    }
   ],
   "source": [
    "import ANEMO\n",
    "\n",
    "Processing = ANEMO.ProcessingSaccades(dirpath='dataANEMO', sub='002')\n",
    "\n",
    "#------------------------------------------------------------------------------\n",
    "# Parameters:\n",
    "#------------------------------------------------------------------------------\n",
    "xname = 'saccade_deg' # The position of the saccades in degrees\n",
    "model = ANEMO.Model.saccade # Model equation\n",
    "# Function generating parameters to perform the fitting\n",
    "generate_params = ANEMO.GenerateParams.saccade\n",
    "stime = None # Start time of the fitting\n",
    "etime = -280 # End time of the fitting\n",
    "step_fit = 2 # Number of steps for the fit\n",
    "# Dictionary containing the parameters for the generate_params function\n",
    "arg_generate_params = dict(do_whitening=False) \n",
    "toxname = None # Name of the data to be saved\n",
    "expnames = 'sub-002_task-aSPEM' # Name of the particular experience to be\n",
    "                                # transformed\n",
    "                                # or list(PreProcessing.data.keys())[0] \n",
    "trials = trials = list(range(1, 16)) # List of the trial to be transformed\n",
    "recalculate = False # Allows you to indicate if you want to force the\n",
    "                    # calculation on the trials already processed\n",
    "    \n",
    "#------------------------------------------------------------------------------\n",
    "# to apply the function:\n",
    "#------------------------------------------------------------------------------\n",
    "Processing.Data.Fit(xname,\n",
    "                    model,\n",
    "                    generate_params,\n",
    "                    stime,\n",
    "                    etime,\n",
    "                    step_fit,\n",
    "                    arg_generate_params,\n",
    "                    toxname,\n",
    "                    expnames,\n",
    "                    trials,\n",
    "                    recalculate)"
   ]
  }
 ],
 "metadata": {
  "celltoolbar": "Raw Cell Format",
  "kernelspec": {
   "display_name": "Python 3",
   "language": "python",
   "name": "python3"
  },
  "language_info": {
   "codemirror_mode": {
    "name": "ipython",
    "version": 3
   },
   "file_extension": ".py",
   "mimetype": "text/x-python",
   "name": "python",
   "nbconvert_exporter": "python",
   "pygments_lexer": "ipython3",
   "version": "3.10.6"
  },
  "toc": {
   "base_numbering": 1,
   "nav_menu": {},
   "number_sections": true,
   "sideBar": true,
   "skip_h1_title": false,
   "title_cell": "Table of Contents",
   "title_sidebar": "Contents",
   "toc_cell": false,
   "toc_position": {},
   "toc_section_display": true,
   "toc_window_display": false
  }
 },
 "nbformat": 4,
 "nbformat_minor": 2
}
