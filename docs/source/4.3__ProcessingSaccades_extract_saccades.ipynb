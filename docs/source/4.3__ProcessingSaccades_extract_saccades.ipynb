{
 "cells": [
  {
   "cell_type": "markdown",
   "metadata": {},
   "source": [
    "# extract saccade"
   ]
  },
  {
   "cell_type": "raw",
   "metadata": {
    "raw_mimetype": "text/html"
   },
   "source": [
    "<br>"
   ]
  },
  {
   "cell_type": "raw",
   "metadata": {
    "raw_mimetype": "text/restructuredtext"
   },
   "source": [
    "**example of code:** run this function on the full data for extract saccades from ``the position data in degree`` (see :doc:`3.1__PreProcessing_to_deg`)."
   ]
  },
  {
   "cell_type": "code",
   "execution_count": 1,
   "metadata": {},
   "outputs": [
    {
     "name": "stdout",
     "output_type": "stream",
     "text": [
      "calculates saccade_deg from the file sub-001... finished\n",
      "save data... finished\n"
     ]
    }
   ],
   "source": [
    "import ANEMO\n",
    "\n",
    "PreProcessing = ANEMO.PreProcessing(dirpath='dataANEMO', sub='001')\n",
    "\n",
    "#------------------------------------------------------------------------------\n",
    "# Parameters:\n",
    "#------------------------------------------------------------------------------\n",
    "xname = 'xpr_deg' # The position of the eye in degret\n",
    "Sevents = 'SSACC' # Name of the start of the event\n",
    "Eevents = 'ESACC' # Name of the end of the event\n",
    "ref_time='time' # Name of the reference time for Sevents, Events start_event\n",
    "                # and stop_event\n",
    "add_stime = -5 # Add time at the start of the event\n",
    "add_etime = 15 # Add time at the end of the event\n",
    "start_event = None # Name of the event marking the start of the search\n",
    "stop_event = None # Name of the event marking the end of the search\n",
    "toxname = 'saccade_deg' # Name of the data to be saved\n",
    "expnames = 'sub-001' # Name of the particular experience to be transformed\n",
    "                     # or list(PreProcessing.data.keys())[0]\n",
    "trials = list(range(1, 16)) # List of the trial to be transformed\n",
    "recalculate = False # Allows you to indicate if you want to force the\n",
    "                    # calculation on the trials already processed\n",
    "\n",
    "#------------------------------------------------------------------------------\n",
    "# to apply the function:\n",
    "#------------------------------------------------------------------------------\n",
    "PreProcessing.Data.extract_events(xname=xname,\n",
    "                                  Sevents=Sevents,\n",
    "                                  Eevents=Eevents,\n",
    "                                  ref_time=ref_time,\n",
    "                                  add_stime=add_stime,\n",
    "                                  add_etime=add_etime,\n",
    "                                  start_event=start_event,\n",
    "                                  stop_event=stop_event,\n",
    "                                  toxname=toxname,\n",
    "                                  expnames=expnames,\n",
    "                                  trials=trials,\n",
    "                                  recalculate=recalculate)"
   ]
  }
 ],
 "metadata": {
  "celltoolbar": "Raw Cell Format",
  "kernelspec": {
   "display_name": "Python 3 (ipykernel)",
   "language": "python",
   "name": "python3"
  },
  "language_info": {
   "codemirror_mode": {
    "name": "ipython",
    "version": 3
   },
   "file_extension": ".py",
   "mimetype": "text/x-python",
   "name": "python",
   "nbconvert_exporter": "python",
   "pygments_lexer": "ipython3",
   "version": "3.10.6"
  },
  "toc": {
   "base_numbering": 1,
   "nav_menu": {},
   "number_sections": true,
   "sideBar": true,
   "skip_h1_title": false,
   "title_cell": "Table of Contents",
   "title_sidebar": "Contents",
   "toc_cell": false,
   "toc_position": {},
   "toc_section_display": true,
   "toc_window_display": false
  }
 },
 "nbformat": 4,
 "nbformat_minor": 2
}
