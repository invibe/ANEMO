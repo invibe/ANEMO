{
 "cells": [
  {
   "cell_type": "markdown",
   "metadata": {},
   "source": [
    "# detect_misacc"
   ]
  },
  {
   "cell_type": "raw",
   "metadata": {
    "raw_mimetype": "text/html"
   },
   "source": [
    "<br>"
   ]
  },
  {
   "cell_type": "markdown",
   "metadata": {
    "raw_mimetype": "text/html"
   },
   "source": [
    "**Detects microsaccades of the eye** not detected by eyelink"
   ]
  },
  {
   "cell_type": "markdown",
   "metadata": {},
   "source": [
    "## Test the parameters\n",
    "\n",
    "-----------------------------"
   ]
  },
  {
   "cell_type": "raw",
   "metadata": {
    "raw_mimetype": "text/restructuredtext"
   },
   "source": [
    ".. autofunction:: ANEMO.ProcessingSaccades::ProcessingSaccades.Trial.detect_misacc\n",
    "  :noindex:"
   ]
  },
  {
   "cell_type": "raw",
   "metadata": {
    "raw_mimetype": "text/html"
   },
   "source": [
    "<br><br>"
   ]
  },
  {
   "cell_type": "raw",
   "metadata": {
    "raw_mimetype": "text/restructuredtext"
   },
   "source": [
    "**example of code:** test the parameters of the function (see :doc:`3.2__PreProcessing_to_velocity_deg`)."
   ]
  },
  {
   "cell_type": "code",
   "execution_count": 1,
   "metadata": {},
   "outputs": [
    {
     "name": "stdout",
     "output_type": "stream",
     "text": [
      "{'SMISACC': '[9078484.0, 9078673.0, 9079236.0, 9079927.0, 9080276.0]', 'EMISACC': '[9078502.0, 9078695.0, 9079248.0, 9079964.0, 9080299.0]'}\n"
     ]
    }
   ],
   "source": [
    "import ANEMO\n",
    "\n",
    "Processing = ANEMO.ProcessingSaccades(dirpath='dataANEMO', sub='001')\n",
    "\n",
    "#------------------------------------------------------------------------------\n",
    "# Parameters:\n",
    "#------------------------------------------------------------------------------\n",
    "vxname = 'xpr_vdeg' # The velocity x of the eye in deg/sec\n",
    "vyname = 'ypr_vdeg' # The velocity y of the eye in deg/sec\n",
    "trial = 8 # Number of the trial to be transformed\n",
    "expname = 'sub-001' # Name of the particular experience to be transformed\n",
    "                    # or list(PreProcessing.data.keys())[0]\n",
    "ref_time = 'time' # Name of the reference time for microsaccades\n",
    "threshold = 5 # Relative velocity threshold\n",
    "mint = 5 # Minimal saccade duration (ms)\n",
    "maxt = 100 # Maximal saccade duration (ms)\n",
    "minstep = 30 # Minimal time interval between two detected saccades (ms)\n",
    "toxname = None # Name of the data to be saved\n",
    "return_ = True # If True returns the value, else saves it in data\n",
    "\n",
    "#------------------------------------------------------------------------------\n",
    "# to apply the function:\n",
    "#------------------------------------------------------------------------------\n",
    "micro_saccade = Processing.Trial.detect_misacc(vxname=vxname,\n",
    "                                               vyname=vyname,\n",
    "                                               trial=trial,\n",
    "                                               expname=expname,\n",
    "                                               ref_time=ref_time,\n",
    "                                               threshold=threshold,\n",
    "                                               mint=mint,\n",
    "                                               maxt=maxt,\n",
    "                                               minstep=minstep,\n",
    "                                               toxname=toxname,\n",
    "                                               return_=return_)\n",
    "\n",
    "print(micro_saccade)"
   ]
  },
  {
   "cell_type": "markdown",
   "metadata": {},
   "source": [
    "## Run it on a data set\n",
    "\n",
    "----------------------------"
   ]
  },
  {
   "cell_type": "raw",
   "metadata": {
    "raw_mimetype": "text/restructuredtext"
   },
   "source": [
    ".. autofunction:: ANEMO.ProcessingSaccades::ProcessingSaccades.Data.detect_misacc\n",
    "  :noindex:"
   ]
  },
  {
   "cell_type": "raw",
   "metadata": {
    "raw_mimetype": "text/html"
   },
   "source": [
    "<br><br>"
   ]
  },
  {
   "cell_type": "raw",
   "metadata": {
    "raw_mimetype": "text/restructuredtext"
   },
   "source": [
    "**example of code:** run this function on the full data (see :doc:`3.2__PreProcessing_to_velocity_deg`)."
   ]
  },
  {
   "cell_type": "code",
   "execution_count": 2,
   "metadata": {
    "scrolled": true
   },
   "outputs": [
    {
     "name": "stdout",
     "output_type": "stream",
     "text": [
      "calculates MISACC from the file sub-001... finished\n",
      "save data... finished\n"
     ]
    }
   ],
   "source": [
    "import ANEMO\n",
    "\n",
    "Processing = ANEMO.ProcessingSaccades(dirpath='dataANEMO', sub='001')\n",
    "\n",
    "#------------------------------------------------------------------------------\n",
    "# Parameters:\n",
    "#------------------------------------------------------------------------------\n",
    "vxname = 'xpr_vdeg' # The velocity x of the eye in deg/sec\n",
    "vyname = 'ypr_vdeg' # The velocity y of the eye in deg/sec\n",
    "ref_time = 'time' # Name of the reference time for microsaccades\n",
    "threshold = 5 # Relative velocity threshold\n",
    "mint = 5 # Minimal saccade duration (ms)\n",
    "maxt = 100 # Maximal saccade duration (ms)\n",
    "minstep = 30 # Minimal time interval between two detected saccades (ms)\n",
    "toxname= None # Name of the data to be saved\n",
    "expnames = 'sub-001' # Name of the particular experience to be transformed\n",
    "                     # or list(PreProcessing.data.keys())[0] \n",
    "trials = list(range(1, 16)) # List of the trial to be transformed\n",
    "recalculate = False # Allows you to indicate if you want to force the\n",
    "                    # calculation on the trials already processed\n",
    "\n",
    "#------------------------------------------------------------------------------\n",
    "# to apply the function:\n",
    "#------------------------------------------------------------------------------\n",
    "Processing.Data.detect_misacc(vxname=vxname,\n",
    "                              vyname=vyname,\n",
    "                              ref_time=ref_time,\n",
    "                              threshold=threshold,\n",
    "                              mint=mint,\n",
    "                              maxt=maxt,\n",
    "                              minstep=minstep,\n",
    "                              toxname=toxname,\n",
    "                              expnames=expnames,\n",
    "                              trials=trials,\n",
    "                              recalculate=recalculate)"
   ]
  }
 ],
 "metadata": {
  "celltoolbar": "Format de la Cellule Texte Brut",
  "kernelspec": {
   "display_name": "Python 3 (ipykernel)",
   "language": "python",
   "name": "python3"
  },
  "language_info": {
   "codemirror_mode": {
    "name": "ipython",
    "version": 3
   },
   "file_extension": ".py",
   "mimetype": "text/x-python",
   "name": "python",
   "nbconvert_exporter": "python",
   "pygments_lexer": "ipython3",
   "version": "3.10.6"
  },
  "toc": {
   "base_numbering": 1,
   "nav_menu": {},
   "number_sections": true,
   "sideBar": true,
   "skip_h1_title": false,
   "title_cell": "Table of Contents",
   "title_sidebar": "Contents",
   "toc_cell": false,
   "toc_position": {},
   "toc_section_display": true,
   "toc_window_display": false
  }
 },
 "nbformat": 4,
 "nbformat_minor": 2
}
