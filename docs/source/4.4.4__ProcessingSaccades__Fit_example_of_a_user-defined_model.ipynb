{
 "cells": [
  {
   "cell_type": "markdown",
   "metadata": {},
   "source": [
    "# Example of a user-defined model"
   ]
  },
  {
   "cell_type": "markdown",
   "metadata": {
    "raw_mimetype": "text/html"
   },
   "source": [
    "## Model\n",
    "\n",
    "-----------------------------"
   ]
  },
  {
   "cell_type": "markdown",
   "metadata": {
    "raw_mimetype": "text/html"
   },
   "source": [
    "Example of a user-defined model reproducing the position of the eye during a saccade.\n",
    "\n",
    "This model is a Gaussian curve."
   ]
  },
  {
   "cell_type": "code",
   "execution_count": 1,
   "metadata": {},
   "outputs": [
    {
     "data": {
      "image/png": "[encoded data removed]",
      "text/plain": [
       "<Figure size 500x297.442 with 1 Axes>"
      ]
     },
     "metadata": {},
     "output_type": "display_data"
    }
   ],
   "source": [
    "import numpy as np\n",
    "def saccade_model(x, stime, etime, x0, xmax, tmax, sigma):\n",
    "\n",
    "    \"\"\"\n",
    "    Model reproducing the position of the eye during the sacades.\n",
    "\n",
    "    Parameters\n",
    "    ----------\n",
    "    x: ndarray\n",
    "        Time of the function\n",
    "\n",
    "    stime: float\n",
    "        Start time of the curvature in ms\n",
    "    etime: float\n",
    "        End time of the curvature in ms\n",
    "\n",
    "    x0: float\n",
    "        Initial position of the beginning of the saccade in deg\n",
    "    xmax: float\n",
    "        Position maximum of the curvature in deg\n",
    "    tmax: float\n",
    "        Time of maximum position of the curvature in ms\n",
    "    \n",
    "    sigma: float\n",
    "        Standard deviation of the curvature in ms\n",
    "\n",
    "    \n",
    "    Returns\n",
    "    -------\n",
    "    position: list\n",
    "        Position of the eye during the sacades in deg\n",
    "    \"\"\"\n",
    "\n",
    "    time = x\n",
    "    tmax = tmax - stime\n",
    "    \n",
    "    if etime<=stime:\n",
    "        return None\n",
    "    \n",
    "    else:\n",
    "        def gausienne(t, xmax, tmax, sigma):\n",
    "            f = (xmax-x0) * np.exp((-(t-tmax)**2)/(2*(sigma**2)))\n",
    "            return  f\n",
    "\n",
    "        saccade = []\n",
    "        for t in time:\n",
    "            if t <= stime:\n",
    "                saccade.append(x0)\n",
    "            elif t <= etime:\n",
    "                saccade.append(x0 + gausienne(t-stime, xmax, tmax, sigma))\n",
    "            else:\n",
    "                saccade.append(np.nan)\n",
    "\n",
    "        return saccade\n",
    "\n",
    "#------------------------------------------------------------------------------\n",
    "# Plot:\n",
    "#------------------------------------------------------------------------------\n",
    "fct = saccade_model(x=np.arange(30), stime=1, etime=20, x0=9, xmax=90, tmax=15,\n",
    "                    sigma=3)\n",
    "import matplotlib.pyplot as plt\n",
    "\n",
    "fig, axs = plt.subplots(1,1, figsize=(10/2, 10/(1.681*2)))\n",
    "\n",
    "axs.plot(fct, 'r')\n",
    "axs.set_xlim([0, len(fct)])\n",
    "axs.set_xlabel('time (ms)')\n",
    "axs.set_ylabel('Position of the eye (°)')\n",
    "axs.set_title('fct_line')\n",
    "\n",
    "plt.tight_layout()\n",
    "plt.show()"
   ]
  },
  {
   "cell_type": "markdown",
   "metadata": {
    "raw_mimetype": "text/html"
   },
   "source": [
    "## Generate parameters\n",
    "\n",
    "-----------------------------"
   ]
  },
  {
   "cell_type": "markdown",
   "metadata": {},
   "source": [
    "In order to allow the parameters of this model to be fitted to the data, it is necessary to define a function to define the limits of these parameters during the fitting.\n",
    "\n",
    "This function must return a python tuple containing two dictionaries:\n",
    "\n",
    "- a first dictionary (called ``param`` here) which contains for each **parametric variable** of the function to be fitted a dictionary containing the following keys:\n",
    "    - ``value`` - corresponding to the initial value that this variable should take\n",
    "    - ``min`` - corresponding to the minimum value that this variable can take when fitted, or ``None`` for not defining a value\n",
    "    - ``max`` - corresponding to the maximum value this variable can take when fitted, or `None` if you don't want to set a value\n",
    "    - ``vary`` - can take three different values:\n",
    "        - ``True`` - if you want the value of this variable to vary during fitting\n",
    "        - ``False`` - if you want the value of this variable not to vary during the fitting and to retain the value set by ``value``.\n",
    "        - ``'vary'`` - if you want to perform a two-step fit and you want the value of this variable not to vary during the first fit, but to be allowed to vary during the second fit.\n",
    "\n",
    "- a second dictionary (called ``independent_vars`` here) which contains the values of each **non-parametric variable** (independent variable) in the function to be fitted."
   ]
  },
  {
   "cell_type": "code",
   "execution_count": 2,
   "metadata": {},
   "outputs": [],
   "source": [
    "def fct_generateParams(data, xname, trial, expname, stime, etime, **opt):\n",
    "\n",
    "    \"\"\"\n",
    "    Allows you to generate parameters to fit the saccade model.\n",
    "\n",
    "    Parameters\n",
    "    ----------\n",
    "    data: dict, or None (default None)\n",
    "        Dictionary containing for each file the ``Data``, the\n",
    "        ``Results``, the ``Events``, and the ``Settings``\n",
    "\n",
    "    xname: str\n",
    "        Name of the data to be transformed\n",
    "    trial: int\n",
    "        Number of the trial to be transformed\n",
    "    expname: str\n",
    "        Name of the particular experience to be transformed\n",
    "\n",
    "    stime: int, or None (defaut None)\n",
    "        Start time of the fitting (ms)\n",
    "    etime: int, or None (default -280)\n",
    "        End time of the fitting (ms)\n",
    "    \"\"\"\n",
    "    # settings data\n",
    "    settings = data[expname].Settings # settings data\n",
    "\n",
    "    #----------------------------------------------------------------------\n",
    "    # converts the time variables into the sampling frequency\n",
    "    #----------------------------------------------------------------------\n",
    "    if not 'SamplingFrequency' in settings.keys():\n",
    "        raise SettingsError('SamplingFrequency', expname)\n",
    "\n",
    "    SamplingFrequency = settings.SamplingFrequency.values[0]\n",
    "    stime = round((stime/1000) * SamplingFrequency)\n",
    "    etime = round((etime/1000) * SamplingFrequency)\n",
    "\n",
    "    # data of the trial\n",
    "    data_trial = data[expname].Data[data[expname].Data.trial==trial]\n",
    "\n",
    "    # data of the saccade\n",
    "    data_ = data_trial[xname].values[stime:etime]\n",
    "    \n",
    "    ###########################################################################\n",
    "    # Dictionary containing the values of each parametric variable\n",
    "    ###########################################################################\n",
    "    params = dict()\n",
    "\n",
    "    \n",
    "\n",
    "    #==========================================================================\n",
    "    # the variable corresponding to the start time of the curvature in ms\n",
    "    #  takes an initial value at the time of fitting\n",
    "    #  does not vary during the first fitting\n",
    "    #  but can vary during the second fitting from a minimum value\n",
    "    #  to a maximum value\n",
    "    #==========================================================================\n",
    "    params['stime'] = {'value':0,\n",
    "                       'min':0,\n",
    "                       'max':len(data_)/2,\n",
    "                       'vary':'vary'}\n",
    "    \n",
    "    #==========================================================================\n",
    "    # the variable corresponding to the end time of the curvature in ms\n",
    "    #  takes an initial value at the time of fitting\n",
    "    #  does not vary during the first fitting\n",
    "    #  but can vary during the second fitting from a minimum value\n",
    "    #  to a maximum value\n",
    "    #==========================================================================\n",
    "    params['etime'] = {'value':(3/4)*len(data_),\n",
    "                       'min':len(data_)/2,\n",
    "                       'max':len(data_),\n",
    "                       'vary':'vary'}\n",
    "    \n",
    "    #==========================================================================\n",
    "    # the variable corresponding to the initial position of the beginning\n",
    "    # of the saccade in deg\n",
    "    #  takes an initial value at the time of fitting\n",
    "    #  does not vary during the first fitting\n",
    "    #  but can vary during the second fitting from a minimum value\n",
    "    #  to a maximum value\n",
    "    #==========================================================================\n",
    "    # initial position of the eye at the beginning of the saccade\n",
    "    init_position_eye = data_[0]\n",
    "    params['x0'] = {'value':init_position_eye,\n",
    "                    'min':init_position_eye-0.1,\n",
    "                    'max':init_position_eye+0.1,\n",
    "                    'vary':'vary'}\n",
    "    \n",
    "    \n",
    "    #==========================================================================\n",
    "    # the variable corresponding to the position maximum of the curvature\n",
    "    # in deg\n",
    "    #  takes an initial value at the time of fitting\n",
    "    #  but can vary from a minimum value to a maximum value\n",
    "    #==========================================================================\n",
    "    params['xmax'] = {'value':2,\n",
    "                      'min':-5,\n",
    "                      'max':5,\n",
    "                      'vary':True}\n",
    "    \n",
    "    #==========================================================================\n",
    "    # the variable corresponding to the time of maximum position of the\n",
    "    # curvature in ms\n",
    "    #  takes an initial value at the time of fitting\n",
    "    #  but can vary from a minimum value to a maximum value\n",
    "    #==========================================================================\n",
    "    params['tmax'] = {'value':len(data_)/2,\n",
    "                      'min':0,\n",
    "                      'max':len(data_),\n",
    "                      'vary':True}\n",
    "    \n",
    "    #==========================================================================\n",
    "    # the variable corresponding to the standard deviation of the curvature\n",
    "    # in ms\n",
    "    #  takes an initial value at the time of fitting\n",
    "    #  but can vary from a minimum value to a maximum value\n",
    "    #==========================================================================\n",
    "    params['sigma'] = {'value':3,\n",
    "                      'min':0,\n",
    "                      'max':10,\n",
    "                      'vary':True}\n",
    "    \n",
    "    ###########################################################################\n",
    "    # Dictionary containing the values of each non-parametric variable\n",
    "    ###########################################################################\n",
    "    independent_vars = dict()\n",
    "\n",
    "    #==========================================================================\n",
    "    # the variable corresponding to the time of the function (x)\n",
    "    #  takes as value an arange list of the same length as the data\n",
    "    #==========================================================================\n",
    "    independent_vars['x'] = np.arange(len(data_))\n",
    "\n",
    "\n",
    "    return params, independent_vars\n"
   ]
  },
  {
   "cell_type": "markdown",
   "metadata": {},
   "source": [
    "## Test the parameters\n",
    "\n",
    "-----------------------------"
   ]
  },
  {
   "cell_type": "raw",
   "metadata": {
    "raw_mimetype": "text/restructuredtext"
   },
   "source": [
    "| see :ref:`Test the parameters </4.4.1__ProcessingSaccades__Fit_Function.ipynb#Test-the-parameters>` of the function fit"
   ]
  },
  {
   "cell_type": "raw",
   "metadata": {
    "raw_mimetype": "text/html"
   },
   "source": [
    "<br>"
   ]
  },
  {
   "cell_type": "raw",
   "metadata": {
    "raw_mimetype": "text/restructuredtext"
   },
   "source": [
    "**example of code:** run this function on ``the full data of position of the saccades in degrees`` (see :doc:`4.3__ProcessingSaccades_extract_saccades`)."
   ]
  },
  {
   "cell_type": "code",
   "execution_count": 3,
   "metadata": {},
   "outputs": [
    {
     "name": "stdout",
     "output_type": "stream",
     "text": [
      "{'fit': array([nan, nan, nan, ..., nan, nan, nan]), 'values_fit': [{'stime': 9.000003362280948, 'etime': 28.560243250975155, 'x0': -1.8262506127876932, 'xmax': -0.1750096659275684, 'tmax': 23.577095444887377, 'sigma': 6.757723412715714}, {'stime': 12.906447252092695, 'etime': 27.426530130853724, 'x0': 0.19334149774097087, 'xmax': 3.521394212834121, 'tmax': 27.52277798748775, 'sigma': 7.197489809615016}], 'FitStatistics': [{'nfev': 1321, 'chisqr': 0.07633215893713165, 'redchi': 0.0033187895190057238, 'aic': -160.25874659981343, 'bic': -152.0549716198946}, {'nfev': 1159, 'chisqr': 0.14735235924854562, 'redchi': 0.006697834511297528, 'aic': -134.919725929588, 'bic': -126.92649886853678}]}\n"
     ]
    },
    {
     "data": {
      "image/png": "[encoded data removed]",
      "text/plain": [
       "<Figure size 500x297.442 with 1 Axes>"
      ]
     },
     "metadata": {},
     "output_type": "display_data"
    }
   ],
   "source": [
    "import ANEMO\n",
    "\n",
    "Processing = ANEMO.ProcessingSaccades(dirpath='dataANEMO', sub='001')\n",
    "\n",
    "#------------------------------------------------------------------------------\n",
    "# Parameters:\n",
    "#------------------------------------------------------------------------------\n",
    "xname = 'saccade_deg' # The position of the saccades in degrees\n",
    "trial = 8 # Number of the trial to be transformed\n",
    "expname = 'sub-001' # Name of the particular experience to be transformed\n",
    "                    # or list(PreProcessing.data.keys())[0]\n",
    "model = saccade_model # Model equation\n",
    "generate_params = fct_generateParams # Function generating parameters to perform\n",
    "                                     # the fitting\n",
    "stime = None # Start time of the fitting\n",
    "etime = -280 # End time of the fitting\n",
    "step_fit = 2 # Number of steps for the fit\n",
    "# Dictionary containing the parameters for the generate_params function\n",
    "arg_generate_params = dict(eventName_TargetOn='TargetOn',\n",
    "                           eventName_dir_target='dir_target') \n",
    "toxname = None # Name of the data to be saved\n",
    "return_ = True # If True returns the value, else saves it in results and data\n",
    "\n",
    "#------------------------------------------------------------------------------\n",
    "# to apply the function:\n",
    "#------------------------------------------------------------------------------\n",
    "Fit = Processing.Trial.Fit(xname=xname,\n",
    "                           trial=trial,\n",
    "                           expname=expname,\n",
    "                           model=model,\n",
    "                           generate_params=generate_params,\n",
    "                           stime=stime,\n",
    "                           etime=etime,\n",
    "                           step_fit=step_fit,\n",
    "                           arg_generate_params=arg_generate_params,\n",
    "                           toxname=toxname,\n",
    "                           return_=return_)\n",
    "print(Fit)\n",
    "\n",
    "#---------------------------------------------------------------------------\n",
    "# to retrieve the raw data:\n",
    "#---------------------------------------------------------------------------\n",
    "data_exp = Processing.data[expname]\n",
    "data = data_exp.Data\n",
    "vx_NaN = data[data.trial==trial][xname].values\n",
    "\n",
    "#---------------------------------------------------------------------------\n",
    "# Plot:\n",
    "#---------------------------------------------------------------------------\n",
    "import matplotlib.pyplot as plt\n",
    "\n",
    "fig, axs = plt.subplots(1,1, figsize=(10/2, 10/(1.681*2)))\n",
    "\n",
    "axs.plot(vx_NaN, 'k', alpha=.5, label='vx_NaN')\n",
    "axs.plot(Fit['fit'], 'r', label='fit')\n",
    "axs.set_xlabel('time (ms)')\n",
    "axs.set_ylabel('velocity of the eye (°/s)')\n",
    "axs.legend()\n",
    "\n",
    "plt.tight_layout()\n",
    "plt.show()"
   ]
  },
  {
   "cell_type": "markdown",
   "metadata": {},
   "source": [
    "## Run it on a data set\n",
    "\n",
    "----------------------------"
   ]
  },
  {
   "cell_type": "raw",
   "metadata": {
    "raw_mimetype": "text/restructuredtext"
   },
   "source": [
    "| see :ref:`Run it on a data set </4.4.1__ProcessingSaccades__Fit_Function.ipynb#Run-it-on-a-data-set>` of the function fit"
   ]
  },
  {
   "cell_type": "raw",
   "metadata": {
    "raw_mimetype": "text/html"
   },
   "source": [
    "<br>"
   ]
  },
  {
   "cell_type": "raw",
   "metadata": {
    "raw_mimetype": "text/restructuredtext"
   },
   "source": [
    "**example of code:** run this function on ``the full data of position of the saccades in degrees`` (see :doc:`4.3__ProcessingSaccades_extract_saccades`)."
   ]
  },
  {
   "cell_type": "code",
   "execution_count": 4,
   "metadata": {},
   "outputs": [
    {
     "name": "stdout",
     "output_type": "stream",
     "text": [
      "calculates Fit_saccade_model from the file sub-001... finished\n",
      "save data... finished\n"
     ]
    }
   ],
   "source": [
    "import ANEMO\n",
    "\n",
    "Processing = ANEMO.ProcessingSaccades(dirpath='dataANEMO', sub='001')\n",
    "\n",
    "#---------------------------------------------------------------------------\n",
    "# Parameters:\n",
    "#---------------------------------------------------------------------------\n",
    "xname = 'saccade_deg' # The position of the saccades in degrees\n",
    "model = saccade_model # Model equation\n",
    "generate_params = fct_generateParams # Function generating parameters to\n",
    "                                     # perform the fitting\n",
    "stime = None # Start time of the fitting\n",
    "etime = -280 # End time of the fitting\n",
    "step_fit = 2 # Number of steps for the fit\n",
    "# Dictionary containing the parameters for the generate_params function\n",
    "arg_generate_params = dict(eventName_TargetOn='TargetOn',\n",
    "                           eventName_dir_target='dir_target') \n",
    "toxname = None # Name of the data to be saved\n",
    "expnames = 'sub-001' # Name of the particular experience to be transformed\n",
    "                     # or list(PreProcessing.data.keys())[0]\n",
    "trials = trials = list(range(1, 16)) # List of the trial to be transformed\n",
    "recalculate = False # Allows you to indicate if you want to force the\n",
    "                    # calculation on the trials already processed\n",
    "    \n",
    "#------------------------------------------------------------------------------\n",
    "# to apply the function:\n",
    "#------------------------------------------------------------------------------\n",
    "Processing.Data.Fit(xname=xname,\n",
    "                    model=model,\n",
    "                    generate_params=generate_params,\n",
    "                    stime=stime,\n",
    "                    etime=etime,\n",
    "                    step_fit=step_fit,\n",
    "                    arg_generate_params=arg_generate_params,\n",
    "                    toxname=toxname,\n",
    "                    expnames=expnames,\n",
    "                    trials=trials,\n",
    "                    recalculate=recalculate)"
   ]
  }
 ],
 "metadata": {
  "celltoolbar": "Raw Cell Format",
  "kernelspec": {
   "display_name": "Python 3 (ipykernel)",
   "language": "python",
   "name": "python3"
  },
  "language_info": {
   "codemirror_mode": {
    "name": "ipython",
    "version": 3
   },
   "file_extension": ".py",
   "mimetype": "text/x-python",
   "name": "python",
   "nbconvert_exporter": "python",
   "pygments_lexer": "ipython3",
   "version": "3.10.6"
  },
  "toc": {
   "base_numbering": 1,
   "nav_menu": {},
   "number_sections": true,
   "sideBar": true,
   "skip_h1_title": false,
   "title_cell": "Table of Contents",
   "title_sidebar": "Contents",
   "toc_cell": false,
   "toc_position": {},
   "toc_section_display": true,
   "toc_window_display": false
  }
 },
 "nbformat": 4,
 "nbformat_minor": 2
}
