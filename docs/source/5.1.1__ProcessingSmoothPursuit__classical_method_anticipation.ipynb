{
 "cells": [
  {
   "cell_type": "markdown",
   "metadata": {},
   "source": [
    "# anticipation"
   ]
  },
  {
   "cell_type": "raw",
   "metadata": {
    "raw_mimetype": "text/html"
   },
   "source": [
    "<br>\n",
    "Calculates the velocity of the anticipation during the smooth pursuit.\n",
    "<br>\n",
    "This velocity is the average of the velocity of the eye in a 100ms window around the target appearance.\n",
    "<br><br>"
   ]
  },
  {
   "cell_type": "raw",
   "metadata": {
    "raw_mimetype": "text/restructuredtext"
   },
   "source": [
    ".. image:: _static/classical_method_anticipation.svg"
   ]
  },
  {
   "cell_type": "markdown",
   "metadata": {},
   "source": [
    "## Test the parameters\n",
    "\n",
    "-----------------------------"
   ]
  },
  {
   "cell_type": "raw",
   "metadata": {
    "raw_mimetype": "text/restructuredtext"
   },
   "source": [
    ".. autofunction:: ANEMO.ProcessingSmoothPursuit::ProcessingSmoothPursuit.Trial.classical_method.anticipation\n",
    "  :noindex:"
   ]
  },
  {
   "cell_type": "raw",
   "metadata": {
    "raw_mimetype": "text/html"
   },
   "source": [
    "<br><br>"
   ]
  },
  {
   "cell_type": "raw",
   "metadata": {
    "raw_mimetype": "text/restructuredtext"
   },
   "source": [
    "**example of code:** test the parameters of the function to ``the velocity of the eye de-saccade in deg/sec`` (see :ref:`/4.2__ProcessingSaccades_remove_saccades.ipynb#remove-saccades-from-the-velocity-data-in-deg/sec`)."
   ]
  },
  {
   "cell_type": "code",
   "execution_count": 1,
   "metadata": {},
   "outputs": [
    {
     "name": "stdout",
     "output_type": "stream",
     "text": [
      "-0.4729026993323753\n"
     ]
    }
   ],
   "source": [
    "import ANEMO\n",
    "\n",
    "\n",
    "Processing = ANEMO.ProcessingSmoothPursuit(dirpath='dataANEMO', sub='001')\n",
    "classical_method = Processing.Trial.classical_method\n",
    "\n",
    "#------------------------------------------------------------------------------\n",
    "# Parameters:\n",
    "#------------------------------------------------------------------------------\n",
    "xname = 'vx_NaN' # The velocity of the eye de-saccade in deg/sec\n",
    "trial = 8 # Number of the trial to be transformed\n",
    "expname = 'sub-001' # Name of the particular experience to be transformed\n",
    "                    # or list(PreProcessing.data.keys())[0]\n",
    "add_stime = -50 # Add time at the start of the event\n",
    "add_etime = 50 # Add time at the end of the event\n",
    "eventName_TargetOn = 'TargetOn' # Name of the event marking the appearance of\n",
    "                                # the target\n",
    "ref_time='time' # Name of the reference time for eventName_TargetOn\n",
    "toxname = None # Name of the data to be saved\n",
    "return_ = True # If True returns the value, else saves it in results\n",
    "\n",
    "#------------------------------------------------------------------------------\n",
    "# to apply the function:\n",
    "#------------------------------------------------------------------------------\n",
    "anticipation = classical_method.anticipation(xname=xname,\n",
    "                                             trial=trial,\n",
    "                                             expname=expname,\n",
    "                                             add_stime=add_stime,\n",
    "                                             add_etime=add_etime,\n",
    "                                             eventName_TargetOn=eventName_TargetOn,\n",
    "                                             ref_time=ref_time,\n",
    "                                             toxname=toxname,\n",
    "                                             return_=return_)\n",
    "\n",
    "print(anticipation)"
   ]
  },
  {
   "cell_type": "markdown",
   "metadata": {},
   "source": [
    "## Run it on a data set\n",
    "\n",
    "----------------------------"
   ]
  },
  {
   "cell_type": "raw",
   "metadata": {
    "raw_mimetype": "text/restructuredtext"
   },
   "source": [
    ".. autofunction:: ANEMO.ProcessingSmoothPursuit::ProcessingSmoothPursuit.Data.classical_method.anticipation\n",
    "  :noindex:"
   ]
  },
  {
   "cell_type": "raw",
   "metadata": {
    "raw_mimetype": "text/html"
   },
   "source": [
    "<br><br>"
   ]
  },
  {
   "cell_type": "raw",
   "metadata": {
    "raw_mimetype": "text/restructuredtext"
   },
   "source": [
    "**example of code:** run this function on ``the full data of velocity of the eye de-saccade in deg/sec`` (see :ref:`/4.2__ProcessingSaccades_remove_saccades.ipynb#remove-saccades-from-the-velocity-data-in-deg/sec`)."
   ]
  },
  {
   "cell_type": "code",
   "execution_count": 2,
   "metadata": {},
   "outputs": [
    {
     "name": "stdout",
     "output_type": "stream",
     "text": [
      "calculates classical_anticipation from the file sub-001... finished\n",
      "save data... finished\n"
     ]
    }
   ],
   "source": [
    "import ANEMO\n",
    "\n",
    "Processing = ANEMO.ProcessingSmoothPursuit(dirpath='dataANEMO', sub='001')\n",
    "classical_method = Processing.Data.classical_method\n",
    "\n",
    "#------------------------------------------------------------------------------\n",
    "# Parameters:\n",
    "#------------------------------------------------------------------------------\n",
    "xname = 'vx_NaN' # The velocity of the eye de-saccade in deg/sec\n",
    "add_stime = -50 # Add time at the start of the event\n",
    "add_etime = 50 # Add time at the end of the event\n",
    "eventName_TargetOn = 'TargetOn' # Name of the event marking the appearance of\n",
    "                                # the target\n",
    "ref_time='time' # Name of the reference time for eventName_TargetOn\n",
    "toxname = None # Name of the data to be saved\n",
    "expnames = 'sub-001' # Name of the particular experience to be transformed\n",
    "                     # or list(PreProcessing.data.keys())[0]\n",
    "trials = trials = list(range(1, 16)) # List of the trial to be transformed\n",
    "recalculate = False # Allows you to indicate if you want to force the\n",
    "                    # calculation on the trials already processed\n",
    "\n",
    "#------------------------------------------------------------------------------\n",
    "# to apply the function:\n",
    "#------------------------------------------------------------------------------\n",
    "classical_method.anticipation(xname=xname,\n",
    "                              add_stime=add_stime,\n",
    "                              add_etime=add_etime,\n",
    "                              eventName_TargetOn=eventName_TargetOn,\n",
    "                              toxname=toxname,\n",
    "                              ref_time=ref_time,\n",
    "                              expnames=expnames,\n",
    "                              trials=trials,\n",
    "                              recalculate=recalculate)"
   ]
  }
 ],
 "metadata": {
  "celltoolbar": "Raw Cell Format",
  "kernelspec": {
   "display_name": "Python 3 (ipykernel)",
   "language": "python",
   "name": "python3"
  },
  "language_info": {
   "codemirror_mode": {
    "name": "ipython",
    "version": 3
   },
   "file_extension": ".py",
   "mimetype": "text/x-python",
   "name": "python",
   "nbconvert_exporter": "python",
   "pygments_lexer": "ipython3",
   "version": "3.10.6"
  },
  "toc": {
   "base_numbering": 1,
   "nav_menu": {},
   "number_sections": true,
   "sideBar": true,
   "skip_h1_title": false,
   "title_cell": "Table of Contents",
   "title_sidebar": "Contents",
   "toc_cell": false,
   "toc_position": {},
   "toc_section_display": true,
   "toc_window_display": false
  }
 },
 "nbformat": 4,
 "nbformat_minor": 2
}
