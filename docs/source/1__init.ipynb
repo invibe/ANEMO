{
 "cells": [
  {
   "cell_type": "markdown",
   "metadata": {},
   "source": [
    "# init"
   ]
  },
  {
   "cell_type": "raw",
   "metadata": {
    "raw_mimetype": "text/html"
   },
   "source": [
    "<br>"
   ]
  },
  {
   "cell_type": "markdown",
   "metadata": {},
   "source": [
    "**Before starting the analyses with ANEMO, you must first initialise the file that will contain the results**"
   ]
  },
  {
   "cell_type": "raw",
   "metadata": {
    "raw_mimetype": "text/restructuredtext"
   },
   "source": [
    ".. autofunction :: ANEMO.init\n",
    "   :noindex:"
   ]
  },
  {
   "cell_type": "raw",
   "metadata": {
    "raw_mimetype": "text/html"
   },
   "source": [
    "<br>"
   ]
  },
  {
   "cell_type": "raw",
   "metadata": {
    "raw_mimetype": "text/restructuredtext"
   },
   "source": [
    "\n"
   ]
  },
  {
   "cell_type": "raw",
   "metadata": {
    "raw_mimetype": "text/html"
   },
   "source": [
    "<br><br>"
   ]
  },
  {
   "cell_type": "markdown",
   "metadata": {},
   "source": [
    "**example of code:**"
   ]
  },
  {
   "cell_type": "code",
   "execution_count": 1,
   "metadata": {
    "scrolled": true
   },
   "outputs": [
    {
     "name": "stdout",
     "output_type": "stream",
     "text": [
      "RawDatadirpath directory tree:\n",
      "data/\n",
      "    participants.json\n",
      "    participants.tsv\n",
      "    dataset_description.json\n",
      "    sub-002/\n",
      "        ses-001/\n",
      "            eyetrack/\n",
      "                sub-002_ses-001_eyetrack.json\n",
      "                sub-002_ses-001_events.json\n",
      "                sub-002_ses-001_eyetrack.tsv.gz\n",
      "                sub-002_ses-001_events.tsv\n",
      "        ses-002/\n",
      "            eyetrack/\n",
      "                sub-002_ses-002_events.json\n",
      "                sub-002_ses-002_eyetrack.json\n",
      "                sub-002_ses-002_eyetrack.tsv.gz\n",
      "                sub-002_ses-002_events.tsv\n",
      "    sub-001/\n",
      "        eyetrack/\n",
      "            sub-001_eyetrack.json\n",
      "            sub-001_eyetrack.tsv.gz\n",
      "            sub-001_events.json\n",
      "            sub-001_events.tsv\n",
      "\n",
      "Datadirpath directory tree:\n",
      "dataANEMO/\n",
      "    sub-002/\n",
      "        ses-001/\n",
      "            sub-002_ses-001_events.pkl.gz\n",
      "            sub-002_ses-001_data.pkl.gz\n",
      "            sub-002_ses-001_events.json\n",
      "            sub-002_ses-001_data.json\n",
      "            sub-002_ses-001_results.pkl.gz\n",
      "            sub-002_ses-001_settings.json\n",
      "            sub-002_ses-001_results.json\n",
      "        ses-002/\n",
      "            sub-002_ses-002_events.json\n",
      "            sub-002_ses-002_data.json\n",
      "            sub-002_ses-002_results.json\n",
      "            sub-002_ses-002_results.pkl.gz\n",
      "            sub-002_ses-002_settings.json\n",
      "            sub-002_ses-002_data.pkl.gz\n",
      "            sub-002_ses-002_events.pkl.gz\n",
      "    sub-001/\n",
      "        sub-001_results.json\n",
      "        sub-001_events.pkl.gz\n",
      "        sub-001_data.json\n",
      "        sub-001_settings.json\n",
      "        sub-001_events.json\n",
      "        sub-001_results.pkl.gz\n",
      "        sub-001_data.pkl.gz\n",
      "\n"
     ]
    }
   ],
   "source": [
    "import ANEMO\n",
    "\n",
    "#------------------------------------------------------------------------------\n",
    "# Parameters\n",
    "#------------------------------------------------------------------------------\n",
    "RawDatadirpath = 'data' # Raw data directory path\n",
    "Datadirpath = 'dataANEMO' # Processed data directory path\n",
    "sub = None # Participant identifier\n",
    "task = None # Name of the Task\n",
    "ses = None # Name of the Session\n",
    "acq = None # Name of the Aquisition\n",
    "run = None # IndexRun\n",
    "\n",
    "#------------------------------------------------------------------------------\n",
    "# to apply the function:\n",
    "#------------------------------------------------------------------------------\n",
    "ANEMO.init(RawDatadirpath, Datadirpath, sub, task, ses, acq, run)\n",
    "\n",
    "# A new folder has just been created\n",
    "print('RawDatadirpath directory tree:')\n",
    "ANEMO.Data.dirtree(RawDatadirpath)\n",
    "\n",
    "print('Datadirpath directory tree:')\n",
    "ANEMO.Data.dirtree(Datadirpath)"
   ]
  }
 ],
 "metadata": {
  "celltoolbar": "Raw Cell Format",
  "kernelspec": {
   "display_name": "Python 3 (ipykernel)",
   "language": "python",
   "name": "python3"
  },
  "language_info": {
   "codemirror_mode": {
    "name": "ipython",
    "version": 3
   },
   "file_extension": ".py",
   "mimetype": "text/x-python",
   "name": "python",
   "nbconvert_exporter": "python",
   "pygments_lexer": "ipython3",
   "version": "3.10.6"
  },
  "toc": {
   "base_numbering": 1,
   "nav_menu": {},
   "number_sections": true,
   "sideBar": true,
   "skip_h1_title": false,
   "title_cell": "Table of Contents",
   "title_sidebar": "Contents",
   "toc_cell": false,
   "toc_position": {},
   "toc_section_display": true,
   "toc_window_display": false
  }
 },
 "nbformat": 4,
 "nbformat_minor": 2
}
