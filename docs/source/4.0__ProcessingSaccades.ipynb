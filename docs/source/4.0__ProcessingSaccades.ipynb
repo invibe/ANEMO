{
 "cells": [
  {
   "cell_type": "markdown",
   "metadata": {},
   "source": [
    "# ProcessingSaccades"
   ]
  },
  {
   "cell_type": "raw",
   "metadata": {
    "raw_mimetype": "text/html"
   },
   "source": [
    "<br>"
   ]
  },
  {
   "cell_type": "raw",
   "metadata": {
    "raw_mimetype": "text/restructuredtext"
   },
   "source": [
    ".. autoclass:: ANEMO.ProcessingSaccades\n",
    "   :noindex:"
   ]
  },
  {
   "cell_type": "raw",
   "metadata": {
    "raw_mimetype": "text/html"
   },
   "source": [
    "<br><br><br><br>\n",
    "<font size=\"+1\"><b>Test the parameters</b></font>"
   ]
  },
  {
   "cell_type": "markdown",
   "metadata": {},
   "source": [
    "------------------------------"
   ]
  },
  {
   "cell_type": "raw",
   "metadata": {
    "raw_mimetype": "text/restructuredtext"
   },
   "source": [
    "To test the parameters of the different ``ProcessingSaccades`` functions, we invite you to use this class:\n",
    "\n",
    ".. autoclass:: ANEMO.ProcessingSaccades::ProcessingSaccades.Trial\n",
    "  :noindex:"
   ]
  },
  {
   "cell_type": "raw",
   "metadata": {
    "raw_mimetype": "text/html"
   },
   "source": [
    "<br>"
   ]
  },
  {
   "cell_type": "markdown",
   "metadata": {},
   "source": [
    "**example of code:** "
   ]
  },
  {
   "cell_type": "code",
   "execution_count": 1,
   "metadata": {},
   "outputs": [],
   "source": [
    "import ANEMO\n",
    "\n",
    "#------------------------------------------------------------------------------\n",
    "# Parameters:\n",
    "#------------------------------------------------------------------------------\n",
    "dirpath = 'dataANEMO' # Data directory path\n",
    "sub = '001' # Participant identifier\n",
    "task = None # Name of the Task\n",
    "ses = None # Name of the Session\n",
    "acq = None # Name of the Aquisition\n",
    "run = None # IndexRun\n",
    "RawData = False # If True open RawData, if False open DataAnemo\n",
    "#------------------------------------------------------------------------------\n",
    "\n",
    "ProcessingSaccades = ANEMO.ProcessingSaccades(dirpath, sub, task, ses, acq,\n",
    "                                              run, RawData)\n",
    "Processing_Trial = ProcessingSaccades.Trial"
   ]
  },
  {
   "cell_type": "raw",
   "metadata": {
    "raw_mimetype": "text/html"
   },
   "source": [
    "<br><br>\n",
    "<font size=\"+1\"><b>Run it on a data set</b></font>"
   ]
  },
  {
   "cell_type": "markdown",
   "metadata": {},
   "source": [
    "------------------------------"
   ]
  },
  {
   "cell_type": "raw",
   "metadata": {
    "raw_mimetype": "text/restructuredtext"
   },
   "source": [
    "To apply the ``ProcessingSaccades`` functions to a dataset, we invite you to use this class:\n",
    "\n",
    ".. autoclass:: ANEMO.ProcessingSaccades::ProcessingSaccades.Data\n",
    "  :noindex:"
   ]
  },
  {
   "cell_type": "raw",
   "metadata": {
    "raw_mimetype": "text/html"
   },
   "source": [
    "<br>"
   ]
  },
  {
   "cell_type": "markdown",
   "metadata": {},
   "source": [
    "**example of code:** "
   ]
  },
  {
   "cell_type": "code",
   "execution_count": 2,
   "metadata": {},
   "outputs": [],
   "source": [
    "import ANEMO\n",
    "\n",
    "#------------------------------------------------------------------------------\n",
    "# Parameters:\n",
    "#------------------------------------------------------------------------------\n",
    "dirpath = 'dataANEMO' # Data directory path\n",
    "sub = '001' # Participant identifier\n",
    "task = None # Name of the Task\n",
    "ses = None # Name of the Session\n",
    "acq = None # Name of the Aquisition\n",
    "run = None # IndexRun\n",
    "RawData = False # If True open RawData, if False open DataAnemo\n",
    "#------------------------------------------------------------------------------\n",
    "\n",
    "ProcessingSaccades = ANEMO.ProcessingSaccades(dirpath, sub, task, ses, acq,\n",
    "                                              run, RawData)\n",
    "Processing_Data = ProcessingSaccades.Data"
   ]
  },
  {
   "cell_type": "raw",
   "metadata": {
    "raw_mimetype": "text/html"
   },
   "source": [
    "<br><br>\n",
    "<font size=\"+1\"><b>Functions</b></font>"
   ]
  },
  {
   "cell_type": "markdown",
   "metadata": {},
   "source": [
    "------------------------------"
   ]
  },
  {
   "cell_type": "raw",
   "metadata": {
    "raw_mimetype": "text/restructuredtext"
   },
   "source": [
    "This class includes different functions:\n",
    "\n",
    "    - :doc:`4.1__ProcessingSaccades_detect_misacc` - detect micro-saccades\n",
    "    - :doc:`4.2__ProcessingSaccades_remove_saccades` - remove saccades and micro-saccades\n",
    "    - :doc:`4.3__ProcessingSaccades_extract_saccades` - extract saccades\n",
    "    - :doc:`4.4.0__ProcessingSaccades__Fit` - fits the parameters of a model to the eye data.\n",
    "       - :doc:`4.4.1__ProcessingSaccades__Fit_function` - function to fit the parameters of a model to the eye data.\n",
    "       - :doc:`4.4.2__ProcessingSaccades__Model` - predefined model reproducing the position of the eye during the sacades\n",
    "       - :doc:`4.4.3__ProcessingSaccades__GenerateParams` - generate automatically the parameters of the predefined models in :doc:`4.4.2__ProcessingSaccades__Model` in order to fit them to the data.\n",
    "       - :doc:`4.4.4__ProcessingSaccades__Fit_example_of_a_user-defined_model` - exemple of fit the parameters of a user-defined model to the eye data."
   ]
  },
  {
   "cell_type": "raw",
   "metadata": {
    "raw_mimetype": "text/restructuredtext"
   },
   "source": [
    ".. toctree::\n",
    "   :hidden:\n",
    "   \n",
    "   4.1__ProcessingSaccades_detect_misacc\n",
    "   4.2__ProcessingSaccades_remove_saccades\n",
    "   4.3__ProcessingSaccades_extract_saccades\n",
    "   4.4.0__ProcessingSaccades__Fit"
   ]
  }
 ],
 "metadata": {
  "celltoolbar": "Raw Cell Format",
  "kernelspec": {
   "display_name": "Python 3 (ipykernel)",
   "language": "python",
   "name": "python3"
  },
  "language_info": {
   "codemirror_mode": {
    "name": "ipython",
    "version": 3
   },
   "file_extension": ".py",
   "mimetype": "text/x-python",
   "name": "python",
   "nbconvert_exporter": "python",
   "pygments_lexer": "ipython3",
   "version": "3.10.6"
  },
  "toc": {
   "base_numbering": 1,
   "nav_menu": {},
   "number_sections": true,
   "sideBar": true,
   "skip_h1_title": false,
   "title_cell": "Table of Contents",
   "title_sidebar": "Contents",
   "toc_cell": false,
   "toc_position": {},
   "toc_section_display": true,
   "toc_window_display": false
  }
 },
 "nbformat": 4,
 "nbformat_minor": 2
}
