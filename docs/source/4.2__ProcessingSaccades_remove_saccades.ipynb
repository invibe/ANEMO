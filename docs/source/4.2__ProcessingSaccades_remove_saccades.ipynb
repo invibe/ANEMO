{
 "cells": [
  {
   "cell_type": "markdown",
   "metadata": {},
   "source": [
    "# remove saccade"
   ]
  },
  {
   "cell_type": "raw",
   "metadata": {
    "raw_mimetype": "text/html"
   },
   "source": [
    "<br>"
   ]
  },
  {
   "cell_type": "raw",
   "metadata": {
    "raw_mimetype": "text/restructuredtext"
   },
   "source": [
    "Here, we want to suppress not only saccades, but also micro-saccades up to ``100 ms`` after the ``TargetOn`` event, what we need to do in different steps:\n",
    "    \n",
    "1. add new events to the events to stop the microsaccade search. (see :ref:`example of code </2__Data.ipynb#add-new-events-to-the-Events>` for add ``Stop_search_MiSacc`` events to the Events)\n",
    "2. remove the saccades from the data\n",
    "3. remove the micro-saccades from the new data. (see :doc:`4.1__ProcessingSaccades_detect_misacc` for add ``SMISACC`` ans ``EMISACC`` events to the Events)"
   ]
  },
  {
   "cell_type": "raw",
   "metadata": {
    "raw_mimetype": "text/html"
   },
   "source": [
    "<br><br>"
   ]
  },
  {
   "cell_type": "markdown",
   "metadata": {},
   "source": [
    "## remove saccades from ``the position data in degree``\n",
    "\n",
    "-------------------------------------------------------"
   ]
  },
  {
   "cell_type": "raw",
   "metadata": {
    "raw_mimetype": "text/restructuredtext"
   },
   "source": [
    "**example of code:** see :doc:`3.1__PreProcessing_to_deg`, :ref:`add Stop_recherche_MiSacc events to the Events </2__Data.ipynb#add-new-events-to-the-Events>` and :doc:`4.1__ProcessingSaccades_detect_misacc`"
   ]
  },
  {
   "cell_type": "code",
   "execution_count": 1,
   "metadata": {},
   "outputs": [
    {
     "name": "stdout",
     "output_type": "stream",
     "text": [
      "calculates xpr_deg__supp_SSACC_ESACC from the file sub-001... finished\n",
      "save data... finished\n",
      "calculates px_NaN from the file sub-001... finished\n",
      "save data... finished\n"
     ]
    }
   ],
   "source": [
    "import ANEMO\n",
    "\n",
    "dirpath = 'dataANEMO' # Data directory path\n",
    "sub = '001' # Participant identifier\n",
    "PreProcessing = ANEMO.PreProcessing(dirpath, sub)\n",
    "\n",
    "expnames = 'sub-001' # Name of the particular experience to be transformed\n",
    "                     # or list(PreProcessing.data.keys())[0]\n",
    "trials = list(range(1, 16)) # List of the trial to be transformed\n",
    "recalculate = False # Allows you to indicate if you want to force the\n",
    "                    # calculation on the trials already processed\n",
    "\n",
    "###############################################################################\n",
    "# 2. remove the saccades from the data\n",
    "###############################################################################\n",
    "# Parameters\n",
    "#------------------------------------------------------------------------------\n",
    "xname = 'xpr_deg' # The position of the eye in degrees\n",
    "Sevents = 'SSACC' # Name of the start of the event\n",
    "Eevents = 'ESACC' # Name of the end of the event\n",
    "ref_time='time' # Name of the reference time for Sevents, Events, start_event\n",
    "                # and stop_event\n",
    "add_stime = -5 # Add time at the start of the event\n",
    "add_etime = 15 # Add time at the end of the event\n",
    "start_event = None # Name of the event marking the start of the search\n",
    "stop_event = None # Name of the event marking the end of the search\n",
    "toxname = 'xpr_deg__supp_SSACC_ESACC' # Name of the data to be saved\n",
    "\n",
    "# to apply the function:\n",
    "#------------------------------------------------------------------------------\n",
    "PreProcessing.Data.remove_events(xname=xname,\n",
    "                                 Sevents=Sevents,\n",
    "                                 Eevents=Eevents,\n",
    "                                 ref_time=ref_time,\n",
    "                                 add_stime=add_stime,\n",
    "                                 add_etime=add_etime,\n",
    "                                 start_event=start_event,\n",
    "                                 stop_event=stop_event,\n",
    "                                 toxname=toxname,\n",
    "                                 expnames=expnames,\n",
    "                                 trials=trials,\n",
    "                                 recalculate=recalculate)\n",
    "\n",
    "# new data has just been created under the name xpr_deg__supp_SSACC_SSACC\n",
    "\n",
    "\n",
    "###############################################################################\n",
    "# 3. remove the micro-saccades from the new data\n",
    "###############################################################################\n",
    "# Parameters\n",
    "#------------------------------------------------------------------------------\n",
    "xname = 'xpr_deg__supp_SSACC_ESACC' # The position of the eye in degret without\n",
    "                                    # the saccades\n",
    "Sevents = 'SMISACC' # Name of the start of the event\n",
    "Eevents = 'EMISACC' # Name of the end of the event\n",
    "ref_time='time' # Name of the reference time for Sevents, Events, start_event\n",
    "                # and stop_event\n",
    "add_stime = 0 # Add time at the start of the event\n",
    "add_etime = 0 # Add time at the end of the event\n",
    "start_event = None # Name of the event marking the start of the search\n",
    "stop_event = 'Stop_recherche_MiSacc' # Name of the event marking the end of the\n",
    "                                     # search\n",
    "toxname = 'px_NaN' # Name of the data to be saved\n",
    "\n",
    "# to apply the function:\n",
    "#------------------------------------------------------------------------------\n",
    "PreProcessing.Data.remove_events(xname=xname,\n",
    "                                 Sevents=Sevents,\n",
    "                                 Eevents=Eevents,\n",
    "                                 ref_time=ref_time,\n",
    "                                 add_stime=add_stime,\n",
    "                                 add_etime=add_etime,\n",
    "                                 start_event=start_event,\n",
    "                                 stop_event=stop_event,\n",
    "                                 toxname=toxname,\n",
    "                                 expnames=expnames,\n",
    "                                 trials=trials,\n",
    "                                 recalculate=recalculate)\n",
    "\n",
    "# new data has just been created under the name px_NaN"
   ]
  },
  {
   "cell_type": "raw",
   "metadata": {
    "raw_mimetype": "text/html"
   },
   "source": [
    "<br><br>"
   ]
  },
  {
   "cell_type": "markdown",
   "metadata": {},
   "source": [
    "## remove saccades from ``the velocity data in deg/sec``\n",
    "\n",
    "-------------------------------------------------------"
   ]
  },
  {
   "cell_type": "raw",
   "metadata": {
    "raw_mimetype": "text/restructuredtext"
   },
   "source": [
    "**example of code:** see :doc:`3.2__PreProcessing_to_velocity_deg`, :ref:`add Stop_search_MiSacc events to the Events </2__Data.ipynb#add-new-events-to-the-Events>` and :doc:`4.1__ProcessingSaccades_detect_misacc`"
   ]
  },
  {
   "cell_type": "code",
   "execution_count": 2,
   "metadata": {},
   "outputs": [
    {
     "name": "stdout",
     "output_type": "stream",
     "text": [
      "calculates xpr_vdeg__supp_SSACC_ESACC from the file sub-001... finished\n",
      "save data... finished\n",
      "calculates vx_NaN from the file sub-001... finished\n",
      "save data... finished\n"
     ]
    }
   ],
   "source": [
    "import ANEMO\n",
    "\n",
    "dirpath = 'dataANEMO' # Data directory path\n",
    "sub = '001' # Participant identifier\n",
    "PreProcessing = ANEMO.PreProcessing(dirpath, sub)\n",
    "\n",
    "expnames = 'sub-001' # Name of the particular experience to be transformed\n",
    "                     # or list(PreProcessing.data.keys())[0]\n",
    "trials = list(range(1, 16)) # List of the trial to be transformed\n",
    "recalculate = False # Allows you to indicate if you want to force the\n",
    "                    # calculation on the trials already processed\n",
    "\n",
    "###############################################################################\n",
    "# 2. remove the saccades from the data\n",
    "###############################################################################\n",
    "# Parameters\n",
    "#------------------------------------------------------------------------------\n",
    "xname = 'xpr_vdeg' # The velocity of the eye in deg/sec\n",
    "Sevents = 'SSACC' # Name of the start of the event\n",
    "Eevents = 'ESACC' # Name of the end of the event\n",
    "ref_time='time' # Name of the reference time for Sevents, Events, start_event\n",
    "                # and stop_event\n",
    "add_stime = -5 # Add time at the start of the event\n",
    "add_etime = 15 # Add time at the end of the event\n",
    "start_event = None # Name of the event marking the start of the search\n",
    "stop_event = None # Name of the event marking the end of the search\n",
    "toxname = 'xpr_vdeg__supp_SSACC_ESACC' # Name of the data to be saved\n",
    "\n",
    "# to apply the function:\n",
    "#------------------------------------------------------------------------------\n",
    "PreProcessing.Data.remove_events(xname=xname,\n",
    "                                 Sevents=Sevents,\n",
    "                                 Eevents=Eevents,\n",
    "                                 ref_time=ref_time,\n",
    "                                 add_stime=add_stime,\n",
    "                                 add_etime=add_etime,\n",
    "                                 start_event=start_event,\n",
    "                                 stop_event=stop_event,\n",
    "                                 toxname=toxname,\n",
    "                                 expnames=expnames,\n",
    "                                 trials=trials,\n",
    "                                 recalculate=recalculate)\n",
    "\n",
    "# new data has just been created under the name xpr_vdeg__supp_SSACC_SSACC\n",
    "\n",
    "\n",
    "###############################################################################\n",
    "# 3. remove the micro-saccades from the new data\n",
    "###############################################################################\n",
    "# Parameters\n",
    "#------------------------------------------------------------------------------\n",
    "xname = 'xpr_vdeg__supp_SSACC_ESACC' # The velocity of the eye in deg/sec\n",
    "                                     # without the saccades\n",
    "Sevents = 'SMISACC' # Name of the start of the event\n",
    "Eevents = 'EMISACC' # Name of the end of the event\n",
    "ref_time='time' # Name of the reference time for Sevents, Events, start_event\n",
    "                # and stop_event\n",
    "add_stime = 0 # Add time at the start of the event\n",
    "add_etime = 0 # Add time at the end of the event\n",
    "start_event = None # Name of the event marking the start of the search\n",
    "stop_event = 'Stop_recherche_MiSacc' # Name of the event marking the end of the\n",
    "                                     # search\n",
    "toxname = 'vx_NaN' # Name of the data to be saved\n",
    "\n",
    "# to apply the function:\n",
    "#------------------------------------------------------------------------------\n",
    "PreProcessing.Data.remove_events(xname=xname,\n",
    "                                 Sevents=Sevents,\n",
    "                                 Eevents=Eevents,\n",
    "                                 ref_time=ref_time,\n",
    "                                 add_stime=add_stime,\n",
    "                                 add_etime=add_etime,\n",
    "                                 start_event=start_event,\n",
    "                                 stop_event=stop_event,\n",
    "                                 toxname=toxname,\n",
    "                                 expnames=expnames,\n",
    "                                 trials=trials,\n",
    "                                 recalculate=recalculate)\n",
    "\n",
    "# new data has just been created under the name vx_NaN"
   ]
  }
 ],
 "metadata": {
  "celltoolbar": "Format de la Cellule Texte Brut",
  "kernelspec": {
   "display_name": "Python 3 (ipykernel)",
   "language": "python",
   "name": "python3"
  },
  "language_info": {
   "codemirror_mode": {
    "name": "ipython",
    "version": 3
   },
   "file_extension": ".py",
   "mimetype": "text/x-python",
   "name": "python",
   "nbconvert_exporter": "python",
   "pygments_lexer": "ipython3",
   "version": "3.10.6"
  },
  "toc": {
   "base_numbering": 1,
   "nav_menu": {},
   "number_sections": true,
   "sideBar": true,
   "skip_h1_title": false,
   "title_cell": "Table of Contents",
   "title_sidebar": "Contents",
   "toc_cell": false,
   "toc_position": {},
   "toc_section_display": true,
   "toc_window_display": false
  }
 },
 "nbformat": 4,
 "nbformat_minor": 2
}
