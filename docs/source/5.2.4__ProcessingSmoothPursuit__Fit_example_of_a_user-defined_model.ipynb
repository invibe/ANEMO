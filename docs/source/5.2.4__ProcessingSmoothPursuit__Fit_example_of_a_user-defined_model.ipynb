{
 "cells": [
  {
   "cell_type": "markdown",
   "metadata": {},
   "source": [
    "# Example of a user-defined model"
   ]
  },
  {
   "cell_type": "markdown",
   "metadata": {
    "raw_mimetype": "text/html"
   },
   "source": [
    "## Model\n",
    "\n",
    "-----------------------------"
   ]
  },
  {
   "cell_type": "markdown",
   "metadata": {
    "raw_mimetype": "text/html"
   },
   "source": [
    "Example of a user-defined model reproducing the speed of the eye when smooth pursuit a target.\n",
    "\n",
    "This model includes different parts:\n",
    "\n",
    "- ``FIXATION`` - corresponding to a fixation of the eye on a fixation point\n",
    "- ``PURSUIT`` - corresponding to the movement of the eye when tracking a moving target. This part corresponds to a linear ``acceleration`` at the beginning of the pursuit followed by a ``steady state`` of the pursuit."
   ]
  },
  {
   "cell_type": "code",
   "execution_count": 1,
   "metadata": {},
   "outputs": [
    {
     "data": {
      "image/png": "[encoded data removed]",
      "text/plain": [
       "<Figure size 500x297.442 with 1 Axes>"
      ]
     },
     "metadata": {},
     "output_type": "display_data"
    }
   ],
   "source": [
    "import numpy as np\n",
    "def line_model(x, dir_target, latency, ramp_pursuit, steady_state):\n",
    "\n",
    "    '''\n",
    "    Model reproducing the velocity of the eye during the smooth pursuit of a\n",
    "    moving target.\n",
    "\n",
    "    Parameters\n",
    "    ----------\n",
    "    x: ndarray\n",
    "        Time of the function\n",
    "\n",
    "    dir_target: int\n",
    "        Direction of the target -1 or 1\n",
    "    latency: int\n",
    "        Time when the movement begins\n",
    "    ramp_pursuit: float\n",
    "        Acceleration of pursuit in seconds\n",
    "    steady_state: float\n",
    "        Steady_state velocity reached during the pursuit\n",
    "\n",
    "    Returns\n",
    "    -------\n",
    "    velocity: list\n",
    "        Velocity of the eye in deg/sec\n",
    "    '''\n",
    "\n",
    "    ramp_pursuit = dir_target*(ramp_pursuit)/1000 # to switch from sec to ms\n",
    "    steady_state_ = (dir_target*steady_state) # steady_state\n",
    "    # time of end of ramp_pursuit\n",
    "    t_end_r = (steady_state_/ramp_pursuit) + latency \n",
    "\n",
    "    velocity = []\n",
    "    for t in x:\n",
    "        \n",
    "        #----------------------------------------------------------------------\n",
    "        # FIXATION\n",
    "        #----------------------------------------------------------------------\n",
    "        if t<latency:\n",
    "            velocity.append(0)\n",
    "        \n",
    "        #----------------------------------------------------------------------\n",
    "        # PURSUIT\n",
    "        #----------------------------------------------------------------------\n",
    "\n",
    "        # acceleration of the pursuit\n",
    "        #----------------------------------------------------------------------\n",
    "        elif t<int(t_end_r):\n",
    "            velocity.append((t-latency)*ramp_pursuit)\n",
    "        \n",
    "        # steady state of the pursuit\n",
    "        #----------------------------------------------------------------------\n",
    "        else:\n",
    "            velocity.append(steady_state_)\n",
    "\n",
    "    return np.array(velocity)\n",
    "\n",
    "#------------------------------------------------------------------------------\n",
    "# Plot:\n",
    "#------------------------------------------------------------------------------\n",
    "fct = line_model(x=np.arange(1000), dir_target=1, latency=400, ramp_pursuit=80,\n",
    "                 steady_state=20)\n",
    "\n",
    "import matplotlib.pyplot as plt\n",
    "\n",
    "fig, axs = plt.subplots(1,1, figsize=(10/2, 10/(1.681*2)))\n",
    "\n",
    "axs.plot(fct, 'r')\n",
    "axs.set_xlabel('time (ms)')\n",
    "axs.set_ylabel('velocity of the eye (°/s)')\n",
    "axs.set_title('fct_line')\n",
    "\n",
    "plt.tight_layout()\n",
    "plt.show()"
   ]
  },
  {
   "cell_type": "markdown",
   "metadata": {
    "raw_mimetype": "text/html"
   },
   "source": [
    "## Generate parameters\n",
    "\n",
    "-----------------------------"
   ]
  },
  {
   "cell_type": "markdown",
   "metadata": {},
   "source": [
    "In order to allow the parameters of this model to be fitted to the data, it is necessary to define a function to define the limits of these parameters during the fitting.\n",
    "\n",
    "This function must return a python tuple containing two dictionaries:\n",
    "\n",
    "- a first dictionary (called ``param`` here) which contains for each **parametric variable** of the function to be fitted a dictionary containing the following keys:\n",
    "    - ``value`` - corresponding to the initial value that this variable should take\n",
    "    - ``min`` - corresponding to the minimum value that this variable can take when fitted, or ``None`` for not defining a value\n",
    "    - ``max`` - corresponding to the maximum value this variable can take when fitted, or `None` if you don't want to set a value\n",
    "    - ``vary`` - can take three different values:\n",
    "        - ``True`` - if you want the value of this variable to vary during fitting\n",
    "        - ``False`` - if you want the value of this variable not to vary during the fitting and to retain the value set by ``value``.\n",
    "        - ``'vary'`` - if you want to perform a two-step fit and you want the value of this variable not to vary during the first fit, but to be allowed to vary during the second fit.\n",
    "\n",
    "- a second dictionary (called ``independent_vars`` here) which contains the values of each **non-parametric variable** (independent variable) in the function to be fitted."
   ]
  },
  {
   "cell_type": "code",
   "execution_count": 2,
   "metadata": {
    "scrolled": true
   },
   "outputs": [],
   "source": [
    "def fct_generateParams(data, xname, trial, expname, stime, etime,\n",
    "                       eventName_TargetOn='TargetOn',\n",
    "                       eventName_dir_target='dir_target', **opt):\n",
    "\n",
    "    '''\n",
    "    Allows you to generate parameters to fit the line model.\n",
    "\n",
    "    Parameters\n",
    "    ----------\n",
    "    data: dict, or None (default None)\n",
    "        Dictionary containing for each file the Settings, the Data, the Events,\n",
    "        and the Results\n",
    "\n",
    "    xname: str\n",
    "        Name of the data to be transformed\n",
    "    trial: int\n",
    "        Number of the trial to be transformed\n",
    "    expname: str\n",
    "        Name of the particular experience to be transformed\n",
    "\n",
    "    stime: int, or None (defaut None)\n",
    "        Start time of the fitting\n",
    "    etime: int, or None (default -280)\n",
    "        End time of the fitting\n",
    "\n",
    "    eventName_TargetOn: str (default 'TargetOn')\n",
    "        Name of the event marking the appearance of the target\n",
    "    eventName_dir_target: str (default 'dir_target')\n",
    "        Name of the event giving the direction of the target\n",
    "    '''\n",
    "\n",
    "    # data of the trial\n",
    "    trial_data = data[expname].Data[data[expname].Data.trial==trial]\n",
    "    \n",
    "    # data x of the trial\n",
    "    data_ = trial_data[xname].values[stime:etime]\n",
    "    \n",
    "    # data time of the trial\n",
    "    time = trial_data['time'].values[stime:etime]\n",
    "\n",
    "    # data events\n",
    "    events = data[expname].Events\n",
    "    # data events of the trial\n",
    "    trial_events = events[events.trial==trial]\n",
    "    \n",
    "    # time of the event marking the appearance of the target in trial\n",
    "    TargetOn = trial_events[eventName_TargetOn].values[0] - time[0]\n",
    "    \n",
    "    \n",
    "    ###########################################################################\n",
    "    # Dictionary containing the values of each parametric variable\n",
    "    ###########################################################################\n",
    "    params = dict()\n",
    "    \n",
    "    #==========================================================================\n",
    "    # the variable corresponding to the direction of the target (dir_target)\n",
    "    #  must not vary during the fitting\n",
    "    #==========================================================================\n",
    "    \n",
    "    #--------------------------------------------------------------------------\n",
    "    # Allows you to set the dir_target variable between [-1, 1]\n",
    "    #--------------------------------------------------------------------------\n",
    "    min_dir = np.min(events[eventName_dir_target].values)\n",
    "    max_dir = np.max(events[eventName_dir_target].values)\n",
    "    dir_target = events[events.trial==trial][eventName_dir_target].values[0]\n",
    "    dir_target = ((dir_target-min_dir)*2-(max_dir-min_dir)) / (max_dir-min_dir)\n",
    "    #--------------------------------------------------------------------------\n",
    "    \n",
    "    params['dir_target'] = {'value': dir_target,\n",
    "                            'min': None,\n",
    "                            'max': None,\n",
    "                            'vary': False}\n",
    "    \n",
    "    #==========================================================================\n",
    "    # the variable corresponding to the time when the movement begins (latency)\n",
    "    #  takes an initial value (start_latency) at the time of fitting\n",
    "    #  but can vary from a minimum value (TargetOn+75) to a maximum value\n",
    "    #  (max_latency)\n",
    "    #==========================================================================\n",
    "    \n",
    "    #--------------------------------------------------------------------------\n",
    "    # blocks the latency variable before the first saccade\n",
    "    #--------------------------------------------------------------------------\n",
    "    start_latency = TargetOn+100 # initial value\n",
    "    max_latency = None # maximum value\n",
    "    \n",
    "    # loop to lock max_latency at the beginning of the first saccade after\n",
    "    # start_latency\n",
    "    # time where the saccades are located in the data\n",
    "    saccades = np.argwhere(np.isnan(data_))[:, 0] \n",
    "    for x in saccades:\n",
    "        if x>=start_latency:\n",
    "            max_latency=x # takes the value of the start of the saccade if it\n",
    "                          # comes just after start_latency.\n",
    "            break # stop the loop\n",
    "    \n",
    "    # if there was no saccade just after start_latency then max_latency is the\n",
    "    # end of the data  \n",
    "    if not max_latency:\n",
    "        max_latency=len(data_)\n",
    "        \n",
    "    # if start_latency is too close to max_latency\n",
    "    #  then we modify this variable to allow the fit to have a little more\n",
    "    #  freedom\n",
    "    if start_latency>=max_latency-50:\n",
    "        start_latency = max_latency-150\n",
    "    if start_latency>250:\n",
    "        start_latency = TargetOn+100\n",
    "    #--------------------------------------------------------------------------\n",
    "    \n",
    "    params['latency'] = {'value': start_latency,\n",
    "                         'min': TargetOn+75,\n",
    "                         'max': max_latency,\n",
    "                         'vary': True}\n",
    "    \n",
    "    #==========================================================================\n",
    "    # the variable corresponding to the steady_state velocity reached during \n",
    "    # the pursuit (steady_state)\n",
    "    #  takes an initial value (15) at the time of fitting\n",
    "    #  but can vary from a minimum value (5) to a maximum value (40)\n",
    "    #==========================================================================\n",
    "    \n",
    "    params['steady_state'] = {'value': 15.,\n",
    "                              'min': 5.,\n",
    "                              'max': 40.,\n",
    "                              'vary': True}\n",
    "    \n",
    "    #==========================================================================\n",
    "    # the variable corresponding to the acceleration of pursuit in seconds\n",
    "    # (ramp_pursuit)\n",
    "    #  takes an initial value (40) at the time of fitting\n",
    "    #  does not vary during the first fitting\n",
    "    #  but can vary during the second fitting from a minimum value (40) to a\n",
    "    #  maximum value (80)\n",
    "    #==========================================================================\n",
    "    \n",
    "    params['ramp_pursuit'] = {'value': 40.,\n",
    "                              'min': 40.,\n",
    "                              'max': 80.,\n",
    "                              'vary': 'vary'}\n",
    "    \n",
    "    \n",
    "    ###########################################################################\n",
    "    # Dictionary containing the values of each non-parametric variable\n",
    "    ###########################################################################\n",
    "    independent_vars = dict()\n",
    "    \n",
    "    #==========================================================================\n",
    "    # the variable corresponding to the time of the function (x)\n",
    "    #  takes as value an arange list of the same length as the data\n",
    "    #==========================================================================\n",
    "    \n",
    "    independent_vars['x'] = np.arange(len(time))\n",
    "    \n",
    "    \n",
    "    return (params, independent_vars)"
   ]
  },
  {
   "cell_type": "markdown",
   "metadata": {},
   "source": [
    "## Test the parameters\n",
    "\n",
    "-----------------------------"
   ]
  },
  {
   "cell_type": "raw",
   "metadata": {
    "raw_mimetype": "text/restructuredtext"
   },
   "source": [
    "| see :ref:`Test the parameters </5.2.1__ProcessingSmoothPursuit__Fit_Function.ipynb#Test-the-parameters>` of the function fit"
   ]
  },
  {
   "cell_type": "raw",
   "metadata": {
    "raw_mimetype": "text/html"
   },
   "source": [
    "<br>"
   ]
  },
  {
   "cell_type": "raw",
   "metadata": {
    "raw_mimetype": "text/restructuredtext"
   },
   "source": [
    "**example of code:** test the parameters of the function to ``the velocity of the eye de-saccade in deg/sec`` (see :ref:`/4.2__ProcessingSaccades_remove_saccades.ipynb#remove-saccades-from-the-velocity-data-in-deg/sec`)."
   ]
  },
  {
   "cell_type": "code",
   "execution_count": 3,
   "metadata": {},
   "outputs": [
    {
     "name": "stdout",
     "output_type": "stream",
     "text": [
      "{'values_fit': {'dir_target': 1.0, 'latency': 1390.533051124515, 'steady_state': 12.669270265503933, 'ramp_pursuit': 56.84853568245681}, 'FitStatistics': {'nfev': 217, 'chisqr': 40249.646089129645, 'redchi': 24.467869962996744, 'aic': 5272.247908652224, 'bic': 5288.469861783633}, 'fit': array([ 0.,  0.,  0., ..., nan, nan, nan])}\n"
     ]
    },
    {
     "data": {
      "image/png": "[encoded data removed]",
      "text/plain": [
       "<Figure size 500x297.442 with 1 Axes>"
      ]
     },
     "metadata": {},
     "output_type": "display_data"
    }
   ],
   "source": [
    "import ANEMO\n",
    "\n",
    "Processing = ANEMO.ProcessingSmoothPursuit(dirpath='dataANEMO', sub='001')\n",
    "\n",
    "#------------------------------------------------------------------------------\n",
    "# Parameters:\n",
    "#------------------------------------------------------------------------------\n",
    "xname = 'vx_NaN' # The velocity of the eye de-saccade in deg/sec\n",
    "trial = 8 # Number of the trial to be transformed\n",
    "expname = 'sub-001' # Name of the particular experience to be transformed\n",
    "                    # or list(PreProcessing.data.keys())[0]\n",
    "model = line_model # Model equation\n",
    "# Function generating parameters to perform the fitting\n",
    "generate_params = fct_generateParams\n",
    "stime = None # Start time of the fitting\n",
    "etime = -280 # End time of the fitting\n",
    "step_fit = 2 # Number of steps for the fit\n",
    "# Dictionary containing the parameters for the generate_params function\n",
    "arg_generate_params = dict(eventName_TargetOn='TargetOn',\n",
    "                           eventName_dir_target='dir_target') \n",
    "toxname = None # Name of the data to be saved\n",
    "return_ = True # If True returns the value, else saves it in results and data\n",
    "\n",
    "#------------------------------------------------------------------------------\n",
    "# to apply the function:\n",
    "#------------------------------------------------------------------------------\n",
    "Fit = Processing.Trial.Fit(xname=xname,\n",
    "                           trial=trial,\n",
    "                           expname=expname,\n",
    "                           model=model,\n",
    "                           generate_params=generate_params,\n",
    "                           stime=stime,\n",
    "                           etime=etime,\n",
    "                           step_fit=step_fit,\n",
    "                           arg_generate_params=arg_generate_params,\n",
    "                           toxname=toxname,\n",
    "                           return_=return_)\n",
    "print(Fit)\n",
    "\n",
    "#---------------------------------------------------------------------------\n",
    "# to retrieve the raw data:\n",
    "#---------------------------------------------------------------------------\n",
    "data_exp = Processing.data[expname]\n",
    "data = data_exp.Data\n",
    "vx_NaN = data[data.trial==trial][xname].values\n",
    "\n",
    "#---------------------------------------------------------------------------\n",
    "# Plot:\n",
    "#---------------------------------------------------------------------------\n",
    "import matplotlib.pyplot as plt\n",
    "\n",
    "fig, axs = plt.subplots(1,1, figsize=(10/2, 10/(1.681*2)))\n",
    "\n",
    "axs.plot(vx_NaN, 'k', alpha=.5, label='vx_NaN')\n",
    "axs.plot(Fit['fit'], 'r', label='fit')\n",
    "axs.set_xlabel('time (ms)')\n",
    "axs.set_ylabel('velocity of the eye (°/s)')\n",
    "axs.legend()\n",
    "\n",
    "plt.tight_layout()\n",
    "plt.show()"
   ]
  },
  {
   "cell_type": "markdown",
   "metadata": {},
   "source": [
    "## Run it on a data set\n",
    "\n",
    "----------------------------"
   ]
  },
  {
   "cell_type": "raw",
   "metadata": {
    "raw_mimetype": "text/restructuredtext"
   },
   "source": [
    "| see :ref:`Run it on a data set </5.2.1__ProcessingSmoothPursuit__Fit_Function.ipynb#Run-it-on-a-data-set>` of the function fit"
   ]
  },
  {
   "cell_type": "raw",
   "metadata": {
    "raw_mimetype": "text/html"
   },
   "source": [
    "<br>"
   ]
  },
  {
   "cell_type": "raw",
   "metadata": {
    "raw_mimetype": "text/restructuredtext"
   },
   "source": [
    "**example of code:** run this function on ``the full data of velocity of the eye de-saccade in deg/sec`` (see :ref:`/4.2__ProcessingSaccades_remove_saccades.ipynb#remove-saccades-from-the-velocity-data-in-deg/sec`)."
   ]
  },
  {
   "cell_type": "code",
   "execution_count": 4,
   "metadata": {},
   "outputs": [
    {
     "name": "stdout",
     "output_type": "stream",
     "text": [
      "calculates Fit_line_model from the file sub-001... finished\n",
      "save data... finished\n"
     ]
    }
   ],
   "source": [
    "import ANEMO\n",
    "\n",
    "Processing = ANEMO.ProcessingSmoothPursuit(dirpath='dataANEMO', sub='001')\n",
    "\n",
    "#---------------------------------------------------------------------------\n",
    "# Parameters:\n",
    "#---------------------------------------------------------------------------\n",
    "xname = 'vx_NaN' # The velocity of the eye de-saccade in deg/sec\n",
    "model = line_model # Model equation\n",
    "# Function generating parameters to perform the fitting\n",
    "generate_params = fct_generateParams\n",
    "stime = None # Start time of the fitting\n",
    "etime = -280 # End time of the fitting\n",
    "step_fit = 2 # Number of steps for the fit\n",
    "# Dictionary containing the parameters for the generate_params function\n",
    "arg_generate_params = dict(eventName_TargetOn='TargetOn',\n",
    "                           eventName_dir_target='dir_target') \n",
    "toxname = None # Name of the data to be saved\n",
    "expnames = 'sub-001' # Name of the particular experience to be transformed\n",
    "                     # or list(PreProcessing.data.keys())[0]\n",
    "trials = trials = list(range(1, 16)) # List of the trial to be transformed\n",
    "recalculate = False # Allows you to indicate if you want to force the\n",
    "                    # calculation on the trials already processed\n",
    "    \n",
    "#------------------------------------------------------------------------------\n",
    "# to apply the function:\n",
    "#------------------------------------------------------------------------------\n",
    "Processing.Data.Fit(xname=xname,\n",
    "                    model=model,\n",
    "                    generate_params=generate_params,\n",
    "                    stime=stime,\n",
    "                    etime=etime,\n",
    "                    step_fit=step_fit,\n",
    "                    arg_generate_params=arg_generate_params,\n",
    "                    toxname=toxname,\n",
    "                    expnames=expnames,\n",
    "                    trials=trials,\n",
    "                    recalculate=recalculate)"
   ]
  }
 ],
 "metadata": {
  "celltoolbar": "Raw Cell Format",
  "kernelspec": {
   "display_name": "Python 3 (ipykernel)",
   "language": "python",
   "name": "python3"
  },
  "language_info": {
   "codemirror_mode": {
    "name": "ipython",
    "version": 3
   },
   "file_extension": ".py",
   "mimetype": "text/x-python",
   "name": "python",
   "nbconvert_exporter": "python",
   "pygments_lexer": "ipython3",
   "version": "3.10.6"
  },
  "toc": {
   "base_numbering": 1,
   "nav_menu": {},
   "number_sections": true,
   "sideBar": true,
   "skip_h1_title": false,
   "title_cell": "Table of Contents",
   "title_sidebar": "Contents",
   "toc_cell": false,
   "toc_position": {},
   "toc_section_display": true,
   "toc_window_display": false
  }
 },
 "nbformat": 4,
 "nbformat_minor": 2
}
