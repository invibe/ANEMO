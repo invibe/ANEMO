{
 "cells": [
  {
   "cell_type": "markdown",
   "metadata": {},
   "source": [
    "# ProcessingSmoothPursuit"
   ]
  },
  {
   "cell_type": "raw",
   "metadata": {
    "raw_mimetype": "text/html"
   },
   "source": [
    "<br>"
   ]
  },
  {
   "cell_type": "raw",
   "metadata": {
    "raw_mimetype": "text/restructuredtext"
   },
   "source": [
    ".. autoclass:: ANEMO.ProcessingSmoothPursuit\n",
    "   :noindex:"
   ]
  },
  {
   "cell_type": "raw",
   "metadata": {
    "raw_mimetype": "text/html"
   },
   "source": [
    "<br><br><br><br>\n",
    "<font size=\"+1\"><b>Test the parameters</b></font>"
   ]
  },
  {
   "cell_type": "markdown",
   "metadata": {},
   "source": [
    "------------------------------"
   ]
  },
  {
   "cell_type": "raw",
   "metadata": {
    "raw_mimetype": "text/restructuredtext"
   },
   "source": [
    "To test the parameters of the different Processing functions, we invite you to use this class:\n",
    "\n",
    ".. autoclass:: ANEMO.ProcessingSmoothPursuit::ProcessingSmoothPursuit.Trial\n",
    "  :noindex:"
   ]
  },
  {
   "cell_type": "raw",
   "metadata": {
    "raw_mimetype": "text/html"
   },
   "source": [
    "<br>"
   ]
  },
  {
   "cell_type": "markdown",
   "metadata": {},
   "source": [
    "**example of code:** "
   ]
  },
  {
   "cell_type": "code",
   "execution_count": 1,
   "metadata": {},
   "outputs": [],
   "source": [
    "import ANEMO\n",
    "\n",
    "#------------------------------------------------------------------------------\n",
    "# Parameters:\n",
    "#------------------------------------------------------------------------------\n",
    "dirpath = 'dataANEMO' # Data directory path\n",
    "sub = '001' # Participant identifier\n",
    "task = None # Name of the Task\n",
    "ses = None # Name of the Session\n",
    "acq = None # Name of the Aquisition\n",
    "run = None # IndexRun\n",
    "RawData = False # If True open RawData, if False open DataAnemo\n",
    "#------------------------------------------------------------------------------\n",
    "\n",
    "Processing = ANEMO.ProcessingSmoothPursuit(dirpath, sub, task, ses, acq, run,\n",
    "                                           RawData)\n",
    "Processing_Trial = Processing.Trial"
   ]
  },
  {
   "cell_type": "raw",
   "metadata": {
    "raw_mimetype": "text/html"
   },
   "source": [
    "<br><br>\n",
    "<font size=\"+1\"><b>Run it on a data set</b></font>"
   ]
  },
  {
   "cell_type": "markdown",
   "metadata": {},
   "source": [
    "------------------------------"
   ]
  },
  {
   "cell_type": "raw",
   "metadata": {
    "raw_mimetype": "text/restructuredtext"
   },
   "source": [
    "To apply the Processing functions to a dataset, we invite you to use this class:\n",
    "\n",
    ".. autoclass:: ANEMO.ProcessingSmoothPursuit::ProcessingSmoothPursuit.Data\n",
    "  :noindex:"
   ]
  },
  {
   "cell_type": "raw",
   "metadata": {
    "raw_mimetype": "text/html"
   },
   "source": [
    "<br>"
   ]
  },
  {
   "cell_type": "markdown",
   "metadata": {},
   "source": [
    "**example of code:** "
   ]
  },
  {
   "cell_type": "code",
   "execution_count": 2,
   "metadata": {},
   "outputs": [],
   "source": [
    "import ANEMO\n",
    "\n",
    "#------------------------------------------------------------------------------\n",
    "# Parameters:\n",
    "#------------------------------------------------------------------------------\n",
    "dirpath = 'dataANEMO' # Data directory path\n",
    "sub = '001' # Participant identifier\n",
    "task = None # Name of the Task\n",
    "ses = None # Name of the Session\n",
    "acq = None # Name of the Aquisition\n",
    "run = None # IndexRun\n",
    "RawData = False # If True open RawData, if False open DataAnemo\n",
    "#------------------------------------------------------------------------------\n",
    "\n",
    "Processing = ANEMO.ProcessingSmoothPursuit(dirpath, sub, task, ses, acq, run,\n",
    "                                           RawData)\n",
    "Processing_Data = Processing.Data"
   ]
  },
  {
   "cell_type": "raw",
   "metadata": {
    "raw_mimetype": "text/html"
   },
   "source": [
    "<br><br>\n",
    "<font size=\"+1\"><b>Functions</b></font>"
   ]
  },
  {
   "cell_type": "markdown",
   "metadata": {},
   "source": [
    "------------------------------"
   ]
  },
  {
   "cell_type": "raw",
   "metadata": {
    "raw_mimetype": "text/restructuredtext"
   },
   "source": [
    "This class includes different functions:\n",
    "\n",
    "    - :doc:`5.1.0__ProcessingSmoothPursuit__classical_method` - the \"classical method\" allowing the extraction of parameters\n",
    "        - :doc:`5.1.1__ProcessingSmoothPursuit__classical_method_anticipation` - the \"classical method\" allowing the extraction of the velocity of anticipation of pursuit\n",
    "        - :doc:`5.1.2__ProcessingSmoothPursuit__classical_method_latency` - the \"classical method\" allowing the extraction of the pursuit latency\n",
    "        - :doc:`5.1.3__ProcessingSmoothPursuit__classical_method_steady_state` - the \"classical method\" allowing the extraction of the steady state velocity\n",
    "    - :doc:`5.2.0__ProcessingSmoothPursuit__Fit` - fits the parameters of a model to the eye data.\n",
    "       - :doc:`5.2.1__ProcessingSmoothPursuit__Fit_function`\n",
    "       - :doc:`5.2.2.0__ProcessingSmoothPursuit__Model`\n",
    "           - :doc:`5.2.2.1__ProcessingSmoothPursuit__Model_velocity_line` - Function reproducing the velocity of the eye during the smooth pursuit of a moving target\n",
    "           - :doc:`5.2.2.2__ProcessingSmoothPursuit__Model_velocity` - Function reproducing the velocity of the eye during the smooth pursuit of a moving target\n",
    "           - :doc:`5.2.2.3__ProcessingSmoothPursuit__Model_velocity_sigmo` - Function reproducing the velocity of the eye during the smooth pursuit of a moving target\n",
    "           - :doc:`5.2.2.4__ProcessingSmoothPursuit__Model_position` - Function reproducing the position of the eye during the smooth pursuit of a moving target\n",
    "       - :doc:`5.2.3__ProcessingSmoothPursuit__GenerateParams` - generate automatically the parameters of the predefined models in :doc:`5.2.2.0__ProcessingSmoothPursuit__Model` in order to fit them to the data.\n",
    "       - :doc:`5.2.4__ProcessingSmoothPursuit__Fit_example_of_a_user-defined_model`"
   ]
  },
  {
   "cell_type": "raw",
   "metadata": {
    "raw_mimetype": "text/restructuredtext"
   },
   "source": [
    ".. toctree::\n",
    "   :hidden:\n",
    "   \n",
    "   5.1.0__ProcessingSmoothPursuit__classical_method\n",
    "   5.2.0__ProcessingSmoothPursuit__Fit"
   ]
  }
 ],
 "metadata": {
  "celltoolbar": "Raw Cell Format",
  "kernelspec": {
   "display_name": "Python 3 (ipykernel)",
   "language": "python",
   "name": "python3"
  },
  "language_info": {
   "codemirror_mode": {
    "name": "ipython",
    "version": 3
   },
   "file_extension": ".py",
   "mimetype": "text/x-python",
   "name": "python",
   "nbconvert_exporter": "python",
   "pygments_lexer": "ipython3",
   "version": "3.10.6"
  },
  "toc": {
   "base_numbering": 1,
   "nav_menu": {},
   "number_sections": true,
   "sideBar": true,
   "skip_h1_title": false,
   "title_cell": "Table of Contents",
   "title_sidebar": "Contents",
   "toc_cell": false,
   "toc_position": {},
   "toc_section_display": true,
   "toc_window_display": false
  }
 },
 "nbformat": 4,
 "nbformat_minor": 2
}
